{
 "cells": [
  {
   "cell_type": "markdown",
   "id": "ef6f85d0",
   "metadata": {},
   "source": [
    "# Exercise 2: Labeling\n",
    "\n",
    "Exercise based on Chapter 3 of the book *Advances in Financial Machine Learning* by Marcos Lopez de Prado.\n",
    "\n",
    "In this exercise we will familiarize ourselves with the Triple-Barrier method, as well as different ways of measuring market volatility."
   ]
  },
  {
   "cell_type": "code",
   "execution_count": 136,
   "id": "de8fe7c5",
   "metadata": {},
   "outputs": [],
   "source": [
    "import numpy as np\n",
    "import pandas as pd\n",
    "import matplotlib.pyplot as plt\n",
    "\n",
    "pd.options.mode.chained_assignment = None"
   ]
  },
  {
   "cell_type": "markdown",
   "id": "054a5be3",
   "metadata": {},
   "source": [
    "Let's start by reading the dollar bar data we sampled in the first exercise. This week it is once again convenient to work with DateTime indices."
   ]
  },
  {
   "cell_type": "code",
   "execution_count": 137,
   "id": "48e1e530",
   "metadata": {},
   "outputs": [],
   "source": [
    "df = pd.read_csv('./data/dollar_bars.csv', parse_dates=['datetime'], index_col='datetime')"
   ]
  },
  {
   "cell_type": "markdown",
   "id": "690f0afe",
   "metadata": {},
   "source": [
    "Since the timestamps in our data only have a granularity up to the second, we might have several bars with the same DateTime. This week we require unique indeces, so let's drop duplicates."
   ]
  },
  {
   "cell_type": "code",
   "execution_count": 138,
   "id": "e36a063d",
   "metadata": {},
   "outputs": [
    {
     "name": "stdout",
     "output_type": "stream",
     "text": [
      "Proportion of duplicate TimeStamps: 0.012153979383373623\n"
     ]
    },
    {
     "data": {
      "text/html": [
       "<div>\n",
       "<style scoped>\n",
       "    .dataframe tbody tr th:only-of-type {\n",
       "        vertical-align: middle;\n",
       "    }\n",
       "\n",
       "    .dataframe tbody tr th {\n",
       "        vertical-align: top;\n",
       "    }\n",
       "\n",
       "    .dataframe thead th {\n",
       "        text-align: right;\n",
       "    }\n",
       "</style>\n",
       "<table border=\"1\" class=\"dataframe\">\n",
       "  <thead>\n",
       "    <tr style=\"text-align: right;\">\n",
       "      <th></th>\n",
       "      <th>price</th>\n",
       "      <th>volume</th>\n",
       "      <th>dollar_volume</th>\n",
       "    </tr>\n",
       "    <tr>\n",
       "      <th>datetime</th>\n",
       "      <th></th>\n",
       "      <th></th>\n",
       "      <th></th>\n",
       "    </tr>\n",
       "  </thead>\n",
       "  <tbody>\n",
       "    <tr>\n",
       "      <th>2010-01-03 17:00:00</th>\n",
       "      <td>1113.2</td>\n",
       "      <td>1.0</td>\n",
       "      <td>1113.2</td>\n",
       "    </tr>\n",
       "    <tr>\n",
       "      <th>2010-01-03 17:01:20</th>\n",
       "      <td>1114.3</td>\n",
       "      <td>2.0</td>\n",
       "      <td>2228.6</td>\n",
       "    </tr>\n",
       "    <tr>\n",
       "      <th>2010-01-03 17:04:29</th>\n",
       "      <td>1114.6</td>\n",
       "      <td>1.0</td>\n",
       "      <td>1114.6</td>\n",
       "    </tr>\n",
       "    <tr>\n",
       "      <th>2010-01-03 17:06:31</th>\n",
       "      <td>1114.9</td>\n",
       "      <td>14.0</td>\n",
       "      <td>15608.6</td>\n",
       "    </tr>\n",
       "    <tr>\n",
       "      <th>2010-01-03 17:16:21</th>\n",
       "      <td>1116.0</td>\n",
       "      <td>1.0</td>\n",
       "      <td>1116.0</td>\n",
       "    </tr>\n",
       "  </tbody>\n",
       "</table>\n",
       "</div>"
      ],
      "text/plain": [
       "                      price  volume  dollar_volume\n",
       "datetime                                          \n",
       "2010-01-03 17:00:00  1113.2     1.0         1113.2\n",
       "2010-01-03 17:01:20  1114.3     2.0         2228.6\n",
       "2010-01-03 17:04:29  1114.6     1.0         1114.6\n",
       "2010-01-03 17:06:31  1114.9    14.0        15608.6\n",
       "2010-01-03 17:16:21  1116.0     1.0         1116.0"
      ]
     },
     "execution_count": 138,
     "metadata": {},
     "output_type": "execute_result"
    }
   ],
   "source": [
    "print(f'Proportion of duplicate TimeStamps: {df.index.duplicated().sum() / df.size}')\n",
    "df = df[~df.index.duplicated()]\n",
    "df.head()"
   ]
  },
  {
   "cell_type": "code",
   "execution_count": 139,
   "id": "37fec9dd-1c91-43e4-bac3-d013b8fda93c",
   "metadata": {
    "tags": []
   },
   "outputs": [
    {
     "name": "stdout",
     "output_type": "stream",
     "text": [
      "<class 'pandas.core.indexes.datetimes.DatetimeIndex'>\n",
      "                      price  volume  dollar_volume\n",
      "datetime                                          \n",
      "2011-01-02 17:00:15  1256.3     5.0         6281.5\n",
      "2011-01-02 17:00:55  1256.7     2.0         2513.4\n",
      "2011-01-02 17:46:48  1256.8     1.0         1256.8\n",
      "2011-01-02 19:21:56  1257.0     1.0         1257.0\n",
      "2011-01-02 19:26:19  1257.0     1.0         1257.0\n"
     ]
    }
   ],
   "source": [
    "\n",
    "# Convert index to datetime if it's not already\n",
    "df.index = pd.to_datetime(df.index, errors='coerce')\n",
    "\n",
    "# Check if the index is now a DatetimeIndex\n",
    "print(type(df.index))  # Should show: <class 'pandas.core.indexes.datetimes.DatetimeIndex'>\n",
    "\n",
    "# Filter the data for the year 2011\n",
    "df_2011 = df[df.index.year == 2011]\n",
    "print(df_2011.head())  # Print first few rows for verification\n"
   ]
  },
  {
   "cell_type": "code",
   "execution_count": 140,
   "id": "77207239",
   "metadata": {},
   "outputs": [],
   "source": [
    "# You can work with a subset of the data if computations are taking too long\n",
    "df = df.loc['2011']"
   ]
  },
  {
   "cell_type": "code",
   "execution_count": 141,
   "id": "06d61c49",
   "metadata": {},
   "outputs": [
    {
     "data": {
      "text/plain": [
       "<Axes: xlabel='Date', ylabel='Price'>"
      ]
     },
     "execution_count": 141,
     "metadata": {},
     "output_type": "execute_result"
    },
    {
     "data": {
      "image/png": "[encoded data removed]",
      "text/plain": [
       "<Figure size 640x480 with 1 Axes>"
      ]
     },
     "metadata": {},
     "output_type": "display_data"
    }
   ],
   "source": [
    "df[df.index.year == 2011].plot(y='price', ylabel='Price', xlabel='Date', legend=False, grid=True)"
   ]
  },
  {
   "cell_type": "markdown",
   "id": "ff9754f3",
   "metadata": {},
   "source": [
    "## Volatility estimation\n",
    "\n",
    "In order to perform labeling using the triple-barrier method we must define limits for profit-taking and loss-stopping. In practice it is desirable to define these as a function of market risk, rather than keeping them fixed (see De Prado 3.2). To this end we will calculate the daily volatility (standard deviation of daily *logarithmic* returns) for each bar."
   ]
  },
  {
   "cell_type": "code",
   "execution_count": 142,
   "id": "a0a56a1d",
   "metadata": {},
   "outputs": [],
   "source": [
    "def getDailyReturns(close):\n",
    "    index = close.index\n",
    "    values = close.values\n",
    "       \n",
    "    df0 = index.searchsorted(index - pd.Timedelta(days=1))\n",
    "    df0 = df0[df0 > 0]\n",
    "    \n",
    "    prev_index = index[df0 - 1]\n",
    "    curr_index = index[close.shape[0] - df0.shape[0]:]\n",
    "    \n",
    "    df0 = np.log(close.loc[curr_index] / close.loc[prev_index].values )\n",
    "    return df0"
   ]
  },
  {
   "cell_type": "code",
   "execution_count": 143,
   "id": "59e2022d",
   "metadata": {},
   "outputs": [
    {
     "data": {
      "image/png": "[encoded data removed]",
      "text/plain": [
       "<Figure size 640x480 with 1 Axes>"
      ]
     },
     "metadata": {},
     "output_type": "display_data"
    }
   ],
   "source": [
    "vol = getDailyReturns(df['price']).ewm(span=100).std()\n",
    "plt.plot(vol)\n",
    "plt.ylabel('Daily Volatility')\n",
    "plt.show()"
   ]
  },
  {
   "cell_type": "code",
   "execution_count": 144,
   "id": "df6c1f4f",
   "metadata": {},
   "outputs": [
    {
     "data": {
      "text/html": [
       "<div>\n",
       "<style scoped>\n",
       "    .dataframe tbody tr th:only-of-type {\n",
       "        vertical-align: middle;\n",
       "    }\n",
       "\n",
       "    .dataframe tbody tr th {\n",
       "        vertical-align: top;\n",
       "    }\n",
       "\n",
       "    .dataframe thead th {\n",
       "        text-align: right;\n",
       "    }\n",
       "</style>\n",
       "<table border=\"1\" class=\"dataframe\">\n",
       "  <thead>\n",
       "    <tr style=\"text-align: right;\">\n",
       "      <th></th>\n",
       "      <th>price</th>\n",
       "      <th>volume</th>\n",
       "      <th>dollar_volume</th>\n",
       "      <th>vol</th>\n",
       "    </tr>\n",
       "    <tr>\n",
       "      <th>datetime</th>\n",
       "      <th></th>\n",
       "      <th></th>\n",
       "      <th></th>\n",
       "      <th></th>\n",
       "    </tr>\n",
       "  </thead>\n",
       "  <tbody>\n",
       "    <tr>\n",
       "      <th>2011-01-03 17:21:55</th>\n",
       "      <td>1265.9</td>\n",
       "      <td>1.0</td>\n",
       "      <td>1265.9</td>\n",
       "      <td>0.000056</td>\n",
       "    </tr>\n",
       "    <tr>\n",
       "      <th>2011-01-03 17:24:18</th>\n",
       "      <td>1266.0</td>\n",
       "      <td>2.0</td>\n",
       "      <td>2532.0</td>\n",
       "      <td>0.000079</td>\n",
       "    </tr>\n",
       "    <tr>\n",
       "      <th>2011-01-03 17:26:06</th>\n",
       "      <td>1266.0</td>\n",
       "      <td>1.0</td>\n",
       "      <td>1266.0</td>\n",
       "      <td>0.000075</td>\n",
       "    </tr>\n",
       "    <tr>\n",
       "      <th>2011-01-03 17:26:09</th>\n",
       "      <td>1266.0</td>\n",
       "      <td>1.0</td>\n",
       "      <td>1266.0</td>\n",
       "      <td>0.000070</td>\n",
       "    </tr>\n",
       "    <tr>\n",
       "      <th>2011-01-03 17:35:40</th>\n",
       "      <td>1266.0</td>\n",
       "      <td>1.0</td>\n",
       "      <td>1266.0</td>\n",
       "      <td>0.000065</td>\n",
       "    </tr>\n",
       "  </tbody>\n",
       "</table>\n",
       "</div>"
      ],
      "text/plain": [
       "                      price  volume  dollar_volume       vol\n",
       "datetime                                                    \n",
       "2011-01-03 17:21:55  1265.9     1.0         1265.9  0.000056\n",
       "2011-01-03 17:24:18  1266.0     2.0         2532.0  0.000079\n",
       "2011-01-03 17:26:06  1266.0     1.0         1266.0  0.000075\n",
       "2011-01-03 17:26:09  1266.0     1.0         1266.0  0.000070\n",
       "2011-01-03 17:35:40  1266.0     1.0         1266.0  0.000065"
      ]
     },
     "execution_count": 144,
     "metadata": {},
     "output_type": "execute_result"
    }
   ],
   "source": [
    "df = df.loc[vol.dropna().index].assign(vol=vol.dropna())\n",
    "df.head()"
   ]
  },
  {
   "cell_type": "markdown",
   "id": "f2084fc2",
   "metadata": {},
   "source": [
    "### <u>Task 1</u>\n",
    "\n",
    "In the code above we calculated the moving standard deviation using an exponentially weighted window, whereby more recent observations are given more weight. Perform the same calculation using a standard rolling window and plot the resulting series in the same figure as the result of the exponentially weighted calculation. What differences do you spot between the series? Why might you prefer one method over the other?\n",
    "\n",
    "The following documentation of windowing operations might be helpful:<br>\n",
    "https://pandas.pydata.org/docs/user_guide/window.html#rolling-window"
   ]
  },
  {
   "cell_type": "code",
   "execution_count": 145,
   "id": "3dadaaad",
   "metadata": {},
   "outputs": [],
   "source": [
    "def mad(x):\n",
    "    return np.median(np.fabs(x - np.median(x)))"
   ]
  },
  {
   "cell_type": "markdown",
   "id": "c9e2ffea",
   "metadata": {},
   "source": [
    "### <u>Task 2</u>\n",
    "\n",
    "When calculating the volatility using a standard rolling window we can also apply a custom function (see the section Rolling Apply in the linked documentation). Perform the volatility calculation using the median absolute deviation (MAD) provided above. Plot the results.\n",
    "\n",
    "How do the results differ from before? Why might MAD be a desirable metric, especially in the context of financial timeseries?\n",
    "\n",
    "**NB: In Pandas MAD refers to mean absolute deviation. This is not what we want to use.**"
   ]
  },
  {
   "cell_type": "markdown",
   "id": "3ad20126",
   "metadata": {},
   "source": [
    "## Positions"
   ]
  },
  {
   "cell_type": "markdown",
   "id": "11132f5c",
   "metadata": {},
   "source": [
    "Make sure to use the initial volatility estimate moving forward. Next we will filter down our data to those timestamps, where we wish to place a bet. These ideally correspond to events that cause shifts in the market. For our purposes we will do this using the symmetric CUSUM filter. For information see De Prado 2.5.2."
   ]
  },
  {
   "cell_type": "code",
   "execution_count": 146,
   "id": "d4c02901",
   "metadata": {},
   "outputs": [],
   "source": [
    "def getTEvents(gRaw, h):\n",
    "    tEvents_mask = np.zeros(len(gRaw), dtype=bool)\n",
    "    sPos, sNeg = 0.0, 0.0\n",
    "    diff = np.diff(np.log(gRaw))\n",
    "    for i, value in enumerate(diff, start=1):\n",
    "        sPos = max(0.0, sPos + value)\n",
    "        sNeg = min(0.0, sNeg + value)\n",
    "        if sNeg < -h:\n",
    "            sNeg = 0.0\n",
    "            tEvents_mask[i] = True\n",
    "        elif sPos > h:\n",
    "            sPos = 0.0\n",
    "            tEvents_mask[i] = True\n",
    "    tEvents = gRaw.index[tEvents_mask]\n",
    "    #\n",
    "    return tEvents"
   ]
  },
  {
   "cell_type": "code",
   "execution_count": 147,
   "id": "e150b310",
   "metadata": {},
   "outputs": [
    {
     "data": {
      "text/plain": [
       "0   2011-01-04 03:30:41\n",
       "1   2011-01-04 05:27:18\n",
       "2   2011-01-04 17:08:42\n",
       "3   2011-01-04 19:34:37\n",
       "4   2011-01-05 02:35:16\n",
       "Name: datetime, dtype: datetime64[ns]"
      ]
     },
     "execution_count": 147,
     "metadata": {},
     "output_type": "execute_result"
    }
   ],
   "source": [
    "position_starts = getTEvents(df['price'], df['vol'].std())\n",
    "pd.Series(position_starts).head()"
   ]
  },
  {
   "cell_type": "code",
   "execution_count": 148,
   "id": "60a55c07",
   "metadata": {},
   "outputs": [],
   "source": [
    "df_ = pd.read_csv('./data/dollar_bars.csv', parse_dates=['datetime'], index_col='datetime')"
   ]
  },
  {
   "cell_type": "markdown",
   "id": "e0a29f98",
   "metadata": {},
   "source": [
    "In the triple-barrier method place a vertical barrier that represents a time-limit for our position. Let us utlizie a length of one day, meaning each position will be closed after one day, at the latest."
   ]
  },
  {
   "cell_type": "code",
   "execution_count": 149,
   "id": "b05d5d28",
   "metadata": {},
   "outputs": [],
   "source": [
    "#def vertical_barrier(close, tEvents, numDays):\n",
    "#    # SNIPPET 3.4 ADDING A VERTICAL BARRIER\n",
    "#    t1=close.index.searchsorted(tEvents+pd.Timedelta(days=numDays))\n",
    " #   t1=t1[t1<close.shape[0]]\n",
    "#    t1=pd.Series(close.index[t1],index=tEvents[:t1.shape[0]]) # NaNs at end\n",
    "    \n",
    "#    return t1"
   ]
  },
  {
   "cell_type": "code",
   "execution_count": 150,
   "id": "31e7d378-e71b-424f-b072-72820997f645",
   "metadata": {
    "tags": []
   },
   "outputs": [],
   "source": [
    "def vertical_barrier(close, tEvents, numDays):\n",
    "    # Ensure tEvents is a DatetimeIndex, allow inference of format (including milliseconds)\n",
    "    tEvents = pd.to_datetime(tEvents, errors='coerce', format=None)  # No format specified, auto-detect\n",
    "    print(f'Updated tEvents type: {type(tEvents)}')\n",
    "    print(tEvents[:5])  # Check the first few values of tEvents\n",
    "    \n",
    "    # Ensure close.index is a DatetimeIndex (convert if needed)\n",
    "    if not isinstance(close.index, pd.DatetimeIndex):\n",
    "        close.index = pd.to_datetime(close.index, errors='coerce')\n",
    "    \n",
    "    print(f'close.index type: {type(close.index)}')\n",
    "    print(close.index[:5])  # Check first few values of close.index\n",
    "    \n",
    "    # Adding a vertical barrier\n",
    "    t1 = close.index.searchsorted(tEvents + pd.Timedelta(days=numDays))\n",
    "    \n",
    "    # Filter t1 to make sure it’s within the bounds of the close data\n",
    "    t1 = t1[t1 < close.shape[0]]\n",
    "    \n",
    "    # Create a Series with the corresponding times, matching the length of tEvents\n",
    "    t1 = pd.Series(close.index[t1], index=tEvents[:t1.shape[0]])  # NaNs at the end if mismatch\n",
    "    \n",
    "    return t1\n"
   ]
  },
  {
   "cell_type": "code",
   "execution_count": 151,
   "id": "315089fd",
   "metadata": {},
   "outputs": [
    {
     "name": "stdout",
     "output_type": "stream",
     "text": [
      "Updated tEvents type: <class 'pandas.core.indexes.datetimes.DatetimeIndex'>\n",
      "DatetimeIndex(['2011-01-04 03:30:41', '2011-01-04 05:27:18',\n",
      "               '2011-01-04 17:08:42', '2011-01-04 19:34:37',\n",
      "               '2011-01-05 02:35:16'],\n",
      "              dtype='datetime64[ns]', name='datetime', freq=None)\n",
      "close.index type: <class 'pandas.core.indexes.datetimes.DatetimeIndex'>\n",
      "DatetimeIndex(['2010-01-03 17:00:00', '2010-01-03 17:00:00',\n",
      "               '2010-01-03 17:01:20', '2010-01-03 17:04:29',\n",
      "               '2010-01-03 17:06:31'],\n",
      "              dtype='datetime64[ns]', name='datetime', freq=None)\n"
     ]
    },
    {
     "data": {
      "text/plain": [
       "datetime\n",
       "2011-01-04 03:30:41   2011-01-05 03:45:13\n",
       "2011-01-04 05:27:18   2011-01-05 05:30:48\n",
       "2011-01-04 17:08:42   2011-01-05 18:05:30\n",
       "2011-01-04 19:34:37   2011-01-05 20:07:27\n",
       "2011-01-05 02:35:16   2011-01-06 02:39:29\n",
       "Name: datetime, dtype: datetime64[ns]"
      ]
     },
     "execution_count": 151,
     "metadata": {},
     "output_type": "execute_result"
    }
   ],
   "source": [
    "position_times = vertical_barrier(df_['price'], position_starts, 1)\n",
    "position_times.head()"
   ]
  },
  {
   "cell_type": "markdown",
   "id": "0b031a60",
   "metadata": {},
   "source": [
    "Let's collect out data for each of the positions in a DataFrame."
   ]
  },
  {
   "cell_type": "code",
   "execution_count": 152,
   "id": "90a6d7de",
   "metadata": {},
   "outputs": [
    {
     "data": {
      "text/html": [
       "<div>\n",
       "<style scoped>\n",
       "    .dataframe tbody tr th:only-of-type {\n",
       "        vertical-align: middle;\n",
       "    }\n",
       "\n",
       "    .dataframe tbody tr th {\n",
       "        vertical-align: top;\n",
       "    }\n",
       "\n",
       "    .dataframe thead th {\n",
       "        text-align: right;\n",
       "    }\n",
       "</style>\n",
       "<table border=\"1\" class=\"dataframe\">\n",
       "  <thead>\n",
       "    <tr style=\"text-align: right;\">\n",
       "      <th></th>\n",
       "      <th>position_start</th>\n",
       "      <th>position_end</th>\n",
       "    </tr>\n",
       "  </thead>\n",
       "  <tbody>\n",
       "    <tr>\n",
       "      <th>0</th>\n",
       "      <td>2011-01-04 03:30:41</td>\n",
       "      <td>2011-01-05 03:45:13</td>\n",
       "    </tr>\n",
       "    <tr>\n",
       "      <th>1</th>\n",
       "      <td>2011-01-04 05:27:18</td>\n",
       "      <td>2011-01-05 05:30:48</td>\n",
       "    </tr>\n",
       "    <tr>\n",
       "      <th>2</th>\n",
       "      <td>2011-01-04 17:08:42</td>\n",
       "      <td>2011-01-05 18:05:30</td>\n",
       "    </tr>\n",
       "    <tr>\n",
       "      <th>3</th>\n",
       "      <td>2011-01-04 19:34:37</td>\n",
       "      <td>2011-01-05 20:07:27</td>\n",
       "    </tr>\n",
       "    <tr>\n",
       "      <th>4</th>\n",
       "      <td>2011-01-05 02:35:16</td>\n",
       "      <td>2011-01-06 02:39:29</td>\n",
       "    </tr>\n",
       "  </tbody>\n",
       "</table>\n",
       "</div>"
      ],
      "text/plain": [
       "       position_start        position_end\n",
       "0 2011-01-04 03:30:41 2011-01-05 03:45:13\n",
       "1 2011-01-04 05:27:18 2011-01-05 05:30:48\n",
       "2 2011-01-04 17:08:42 2011-01-05 18:05:30\n",
       "3 2011-01-04 19:34:37 2011-01-05 20:07:27\n",
       "4 2011-01-05 02:35:16 2011-01-06 02:39:29"
      ]
     },
     "execution_count": 152,
     "metadata": {},
     "output_type": "execute_result"
    }
   ],
   "source": [
    "df2 = pd.DataFrame(position_times)\n",
    "df2 = df2.rename_axis('index')\n",
    "df2 = df2.reset_index(drop=False)\n",
    "df2 = df2.rename({'index': 'position_start', 'datetime': 'position_end'}, axis=1)\n",
    "df2.head()"
   ]
  },
  {
   "cell_type": "markdown",
   "id": "b1ab9eb0",
   "metadata": {},
   "source": [
    "## Horizontal barriers\n",
    "\n",
    "Next, we will define an upper and a lower barrier for each of our positions. The upper barrier corresponds to a profit-taking limit, whereby we close the position if the price rises above the barrier. Similarly, the lower barrier represents a loss-stopping limit.\n",
    "\n",
    "We will initially define our barriers such that the upper barriers corresponds to a positive return equal to the daily volatility estimate. The lower barrier will correspond to a equally sized negative return. Notice that this configuration results in barriers that are symmetric around the initial price."
   ]
  },
  {
   "cell_type": "code",
   "execution_count": 153,
   "id": "dac0cc22",
   "metadata": {},
   "outputs": [
    {
     "data": {
      "text/html": [
       "<div>\n",
       "<style scoped>\n",
       "    .dataframe tbody tr th:only-of-type {\n",
       "        vertical-align: middle;\n",
       "    }\n",
       "\n",
       "    .dataframe tbody tr th {\n",
       "        vertical-align: top;\n",
       "    }\n",
       "\n",
       "    .dataframe thead th {\n",
       "        text-align: right;\n",
       "    }\n",
       "</style>\n",
       "<table border=\"1\" class=\"dataframe\">\n",
       "  <thead>\n",
       "    <tr style=\"text-align: right;\">\n",
       "      <th></th>\n",
       "      <th>position_start</th>\n",
       "      <th>position_end</th>\n",
       "      <th>profit_return_lim</th>\n",
       "      <th>loss_return_lim</th>\n",
       "    </tr>\n",
       "  </thead>\n",
       "  <tbody>\n",
       "    <tr>\n",
       "      <th>0</th>\n",
       "      <td>2011-01-04 03:30:41</td>\n",
       "      <td>2011-01-05 03:45:13</td>\n",
       "      <td>0.001197</td>\n",
       "      <td>-0.001197</td>\n",
       "    </tr>\n",
       "    <tr>\n",
       "      <th>1</th>\n",
       "      <td>2011-01-04 05:27:18</td>\n",
       "      <td>2011-01-05 05:30:48</td>\n",
       "      <td>0.001005</td>\n",
       "      <td>-0.001005</td>\n",
       "    </tr>\n",
       "    <tr>\n",
       "      <th>2</th>\n",
       "      <td>2011-01-04 17:08:42</td>\n",
       "      <td>2011-01-05 18:05:30</td>\n",
       "      <td>0.001521</td>\n",
       "      <td>-0.001521</td>\n",
       "    </tr>\n",
       "    <tr>\n",
       "      <th>3</th>\n",
       "      <td>2011-01-04 19:34:37</td>\n",
       "      <td>2011-01-05 20:07:27</td>\n",
       "      <td>0.002616</td>\n",
       "      <td>-0.002616</td>\n",
       "    </tr>\n",
       "    <tr>\n",
       "      <th>4</th>\n",
       "      <td>2011-01-05 02:35:16</td>\n",
       "      <td>2011-01-06 02:39:29</td>\n",
       "      <td>0.004286</td>\n",
       "      <td>-0.004286</td>\n",
       "    </tr>\n",
       "  </tbody>\n",
       "</table>\n",
       "</div>"
      ],
      "text/plain": [
       "       position_start        position_end  profit_return_lim  loss_return_lim\n",
       "0 2011-01-04 03:30:41 2011-01-05 03:45:13           0.001197        -0.001197\n",
       "1 2011-01-04 05:27:18 2011-01-05 05:30:48           0.001005        -0.001005\n",
       "2 2011-01-04 17:08:42 2011-01-05 18:05:30           0.001521        -0.001521\n",
       "3 2011-01-04 19:34:37 2011-01-05 20:07:27           0.002616        -0.002616\n",
       "4 2011-01-05 02:35:16 2011-01-06 02:39:29           0.004286        -0.004286"
      ]
     },
     "execution_count": 153,
     "metadata": {},
     "output_type": "execute_result"
    }
   ],
   "source": [
    "df2['profit_return_lim'] = df['vol'].loc[df2['position_start']].reset_index(drop=True)\n",
    "df2['loss_return_lim'] = -df2['profit_return_lim']\n",
    "df2.head()"
   ]
  },
  {
   "cell_type": "markdown",
   "id": "bb9ef16f",
   "metadata": {},
   "source": [
    "## Labeling\n",
    "\n",
    "We can now run the triple barrier method for each of our positions. This will label each position as 1 (upper barrier touched first), -1 (lower barrier touched first) or 0 (vertical barrier touched first)."
   ]
  },
  {
   "cell_type": "code",
   "execution_count": 154,
   "id": "2f362c4c",
   "metadata": {},
   "outputs": [],
   "source": [
    "import numpy as np\n",
    "\n",
    "def triple_barrier(prices, position):\n",
    "    start = position['position_start']\n",
    "    end = position['position_end']\n",
    "    profit = position['profit_return_lim']\n",
    "    loss = position['loss_return_lim']\n",
    "    \n",
    "    df = prices.loc[start:end]['price']\n",
    "    prices_arr = df.values\n",
    "    \n",
    "    profit_price = (1 + profit) * prices_arr[0]\n",
    "    loss_price = (1 + loss) * prices_arr[0]\n",
    "    \n",
    "    profit_indices = np.where(prices_arr > profit_price)[0]\n",
    "    loss_indices = np.where(prices_arr < loss_price)[0]\n",
    "    \n",
    "    profit_time = end + pd.Timedelta(days=1) if len(profit_indices) == 0 else df.index[profit_indices[0]]\n",
    "    loss_time = end + pd.Timedelta(days=1) if len(loss_indices) == 0 else df.index[loss_indices[0]]\n",
    "    \n",
    "    time, label = min([(profit_time, 1), (end, 0), (loss_time, -1)])\n",
    "    \n",
    "    return time, label"
   ]
  },
  {
   "cell_type": "code",
   "execution_count": 155,
   "id": "bbfb8e6e",
   "metadata": {},
   "outputs": [
    {
     "data": {
      "text/html": [
       "<div>\n",
       "<style scoped>\n",
       "    .dataframe tbody tr th:only-of-type {\n",
       "        vertical-align: middle;\n",
       "    }\n",
       "\n",
       "    .dataframe tbody tr th {\n",
       "        vertical-align: top;\n",
       "    }\n",
       "\n",
       "    .dataframe thead th {\n",
       "        text-align: right;\n",
       "    }\n",
       "</style>\n",
       "<table border=\"1\" class=\"dataframe\">\n",
       "  <thead>\n",
       "    <tr style=\"text-align: right;\">\n",
       "      <th></th>\n",
       "      <th>position_start</th>\n",
       "      <th>position_end</th>\n",
       "      <th>profit_return_lim</th>\n",
       "      <th>loss_return_lim</th>\n",
       "      <th>touch_time</th>\n",
       "      <th>label</th>\n",
       "    </tr>\n",
       "  </thead>\n",
       "  <tbody>\n",
       "    <tr>\n",
       "      <th>0</th>\n",
       "      <td>2011-01-04 03:30:41</td>\n",
       "      <td>2011-01-05 03:45:13</td>\n",
       "      <td>0.001197</td>\n",
       "      <td>-0.001197</td>\n",
       "      <td>2011-01-04 05:04:48</td>\n",
       "      <td>1</td>\n",
       "    </tr>\n",
       "    <tr>\n",
       "      <th>1</th>\n",
       "      <td>2011-01-04 05:27:18</td>\n",
       "      <td>2011-01-05 05:30:48</td>\n",
       "      <td>0.001005</td>\n",
       "      <td>-0.001005</td>\n",
       "      <td>2011-01-04 07:20:39</td>\n",
       "      <td>-1</td>\n",
       "    </tr>\n",
       "    <tr>\n",
       "      <th>2</th>\n",
       "      <td>2011-01-04 17:08:42</td>\n",
       "      <td>2011-01-05 18:05:30</td>\n",
       "      <td>0.001521</td>\n",
       "      <td>-0.001521</td>\n",
       "      <td>2011-01-04 19:34:37</td>\n",
       "      <td>-1</td>\n",
       "    </tr>\n",
       "    <tr>\n",
       "      <th>3</th>\n",
       "      <td>2011-01-04 19:34:37</td>\n",
       "      <td>2011-01-05 20:07:27</td>\n",
       "      <td>0.002616</td>\n",
       "      <td>-0.002616</td>\n",
       "      <td>2011-01-05 02:42:33</td>\n",
       "      <td>-1</td>\n",
       "    </tr>\n",
       "    <tr>\n",
       "      <th>4</th>\n",
       "      <td>2011-01-05 02:35:16</td>\n",
       "      <td>2011-01-06 02:39:29</td>\n",
       "      <td>0.004286</td>\n",
       "      <td>-0.004286</td>\n",
       "      <td>2011-01-05 15:41:37</td>\n",
       "      <td>1</td>\n",
       "    </tr>\n",
       "  </tbody>\n",
       "</table>\n",
       "</div>"
      ],
      "text/plain": [
       "       position_start        position_end  profit_return_lim  loss_return_lim  \\\n",
       "0 2011-01-04 03:30:41 2011-01-05 03:45:13           0.001197        -0.001197   \n",
       "1 2011-01-04 05:27:18 2011-01-05 05:30:48           0.001005        -0.001005   \n",
       "2 2011-01-04 17:08:42 2011-01-05 18:05:30           0.001521        -0.001521   \n",
       "3 2011-01-04 19:34:37 2011-01-05 20:07:27           0.002616        -0.002616   \n",
       "4 2011-01-05 02:35:16 2011-01-06 02:39:29           0.004286        -0.004286   \n",
       "\n",
       "           touch_time  label  \n",
       "0 2011-01-04 05:04:48      1  \n",
       "1 2011-01-04 07:20:39     -1  \n",
       "2 2011-01-04 19:34:37     -1  \n",
       "3 2011-01-05 02:42:33     -1  \n",
       "4 2011-01-05 15:41:37      1  "
      ]
     },
     "execution_count": 155,
     "metadata": {},
     "output_type": "execute_result"
    }
   ],
   "source": [
    "df2[['touch_time','label']] = df2.apply(lambda x: triple_barrier(df, x), axis=1, result_type='expand')\n",
    "df2.head()"
   ]
  },
  {
   "cell_type": "markdown",
   "id": "3b1ffe80",
   "metadata": {},
   "source": [
    "We can also inspect the distribution of labels."
   ]
  },
  {
   "cell_type": "code",
   "execution_count": 156,
   "id": "c402c0cf",
   "metadata": {},
   "outputs": [
    {
     "data": {
      "text/plain": [
       "label\n",
       " 1    35\n",
       "-1    25\n",
       " 0    22\n",
       "Name: count, dtype: int64"
      ]
     },
     "execution_count": 156,
     "metadata": {},
     "output_type": "execute_result"
    }
   ],
   "source": [
    "df2['label'].value_counts()"
   ]
  },
  {
   "cell_type": "markdown",
   "id": "56c12569",
   "metadata": {},
   "source": [
    "Let's save the data for later use."
   ]
  },
  {
   "cell_type": "code",
   "execution_count": 157,
   "id": "8e109c55",
   "metadata": {},
   "outputs": [],
   "source": [
    "save = True\n",
    "if save:\n",
    "    df2.to_csv('./data/labeled_positions.csv')"
   ]
  },
  {
   "cell_type": "markdown",
   "id": "0bfbac0c",
   "metadata": {},
   "source": [
    "### <u>Task 3, 5 credit version of the course</u>\n",
    "\n",
    "Play around with the upper and lower barriers. Start by keeping them symmetric and varying the width. Note down how this affects the distribution of labels. Then repeat the experiment a couple times with nonsymmetric labels.\n",
    "\n",
    "Analyze the results. Are all the results in line with your expectations? Why or why not? How do the different barrier configurations reflect a traders attitude in regards to risk?"
   ]
  }
 ],
 "metadata": {
  "kernelspec": {
   "display_name": "Python 3",
   "language": "python",
   "name": "python3"
  },
  "language_info": {
   "codemirror_mode": {
    "name": "ipython",
    "version": 3
   },
   "file_extension": ".py",
   "mimetype": "text/x-python",
   "name": "python",
   "nbconvert_exporter": "python",
   "pygments_lexer": "ipython3",
   "version": "3.10.12"
  }
 },
 "nbformat": 4,
 "nbformat_minor": 5
}
