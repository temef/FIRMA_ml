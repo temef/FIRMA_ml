{
 "cells": [
  {
   "cell_type": "markdown",
   "metadata": {},
   "source": [
    "<h7>Design and code by Sabir Jana, 2020\n",
    "\n",
    "Pairs trading is a market-neutral strategy where we use statistical techniques to identify two stocks that are historically highly correlated with each other. When there is a deviation in the price relationship of these stocks, we expect this to be mean reverting and buy the underperforming stock and simultaneously sell the outperforming one. If our mean-reversion assumption is valid then prices should converge to long term average and trade should benefit. However, if the price divergence is not temporary and it is due to structural reasons then there is a high risk of losing the money.</h7>\n"
   ]
  },
  {
   "cell_type": "markdown",
   "metadata": {},
   "source": [
    "<h3>Exercise 2C\n",
    "    Pair trading and the z-score; continued from exercise 1B</h3>"
   ]
  },
  {
   "cell_type": "markdown",
   "metadata": {},
   "source": [
    "In this exercise, we practice pair trading. There are several versions of pair trading. In this exercise, we will use the z-score of the ratio between the two stock prices to generate trading signals and set the upper and lower thresholds. This will tell us how far a price is from the population mean value. If it is positive and the value is above the upper threshold, the asset price is higher than the price average. Therefore, its price is expected to fall, so we want to sell (short) this asset and buy (buy) the other asset. Pairs trading is typically immune to changes in the whole market. \n",
    "\n",
    "The main steps are: \n",
    "\n",
    "Preparing data\n",
    "\n",
    "1. we choose and clean the data,\n",
    "2. we split the data in learning data and test data. \n",
    "\n",
    "Using train data to find cointegrated stocks:\n",
    "\n",
    "3. we compute the correlation and cointegration between different assets using the learning data. Choose two assets (asset1 and asset2) that is highly cointegrated. \n",
    "\n",
    "4. Using Ordinary Least-Square regression, we compute a hedge ratio H for asset1. Then, we take long and short positions: asset2- H * asset1.\n",
    "\n",
    "Testing the trading strategy with test data:\n",
    "\n",
    "5. We compute z-score and set the upper and lower thresholds based on the z-score generate trading signals.\n",
    "example: Let us consider asset2. Assume that it is a lot above the long-time average. We expect its price to fall. We take a short position in it. As keep a market neutral position, we go long with asset1. \n",
    "\n",
    "6. We compute the Profits and losses of this strategy. \n",
    "\n",
    "IMPORTANT: you don't need to follow the instructions, steps and pieces of code presented in this file. You can alse design your own solution. \n"
   ]
  },
  {
   "cell_type": "code",
   "execution_count": 3,
   "metadata": {},
   "outputs": [],
   "source": [
    "# make the necessary imports\n",
    "import pandas as pd\n",
    "import numpy as np\n",
    "import matplotlib.pyplot as plt\n",
    "import seaborn as sns\n",
    "import datetime\n",
    "idx = pd.IndexSlice\n",
    "import statsmodels.api as sm\n",
    "\n",
    "from statsmodels.regression.linear_model import OLS\n",
    "from statsmodels.tsa.stattools import adfuller\n",
    "from statsmodels.tsa.stattools import coint\n",
    "from sklearn.model_selection import train_test_split\n",
    "\n",
    "%matplotlib inline\n"
   ]
  },
  {
   "cell_type": "markdown",
   "metadata": {},
   "source": [
    "<h4> Preparing data"
   ]
  },
  {
   "cell_type": "code",
   "execution_count": 4,
   "metadata": {},
   "outputs": [
    {
     "data": {
      "text/html": [
       "<div>\n",
       "<style scoped>\n",
       "    .dataframe tbody tr th:only-of-type {\n",
       "        vertical-align: middle;\n",
       "    }\n",
       "\n",
       "    .dataframe tbody tr th {\n",
       "        vertical-align: top;\n",
       "    }\n",
       "\n",
       "    .dataframe thead th {\n",
       "        text-align: right;\n",
       "    }\n",
       "</style>\n",
       "<table border=\"1\" class=\"dataframe\">\n",
       "  <thead>\n",
       "    <tr style=\"text-align: right;\">\n",
       "      <th></th>\n",
       "      <th>Company Name</th>\n",
       "      <th>Industry</th>\n",
       "      <th>Symbol</th>\n",
       "      <th>Series</th>\n",
       "      <th>ISIN Code</th>\n",
       "    </tr>\n",
       "  </thead>\n",
       "  <tbody>\n",
       "    <tr>\n",
       "      <th>0</th>\n",
       "      <td>ACC Ltd.</td>\n",
       "      <td>CEMENT &amp; CEMENT PRODUCTS</td>\n",
       "      <td>ACC</td>\n",
       "      <td>EQ</td>\n",
       "      <td>INE012A01025</td>\n",
       "    </tr>\n",
       "    <tr>\n",
       "      <th>1</th>\n",
       "      <td>Adani Ports and Special Economic Zone Ltd.</td>\n",
       "      <td>SERVICES</td>\n",
       "      <td>ADANIPORTS</td>\n",
       "      <td>EQ</td>\n",
       "      <td>INE742F01042</td>\n",
       "    </tr>\n",
       "    <tr>\n",
       "      <th>2</th>\n",
       "      <td>Adani Transmission Ltd.</td>\n",
       "      <td>POWER</td>\n",
       "      <td>ADANITRANS</td>\n",
       "      <td>EQ</td>\n",
       "      <td>INE931S01010</td>\n",
       "    </tr>\n",
       "    <tr>\n",
       "      <th>3</th>\n",
       "      <td>Ambuja Cements Ltd.</td>\n",
       "      <td>CEMENT &amp; CEMENT PRODUCTS</td>\n",
       "      <td>AMBUJACEM</td>\n",
       "      <td>EQ</td>\n",
       "      <td>INE079A01024</td>\n",
       "    </tr>\n",
       "    <tr>\n",
       "      <th>4</th>\n",
       "      <td>Ashok Leyland Ltd.</td>\n",
       "      <td>AUTOMOBILE</td>\n",
       "      <td>ASHOKLEY</td>\n",
       "      <td>EQ</td>\n",
       "      <td>INE208A01029</td>\n",
       "    </tr>\n",
       "    <tr>\n",
       "      <th>5</th>\n",
       "      <td>Asian Paints Ltd.</td>\n",
       "      <td>CONSUMER GOODS</td>\n",
       "      <td>ASIANPAINT</td>\n",
       "      <td>EQ</td>\n",
       "      <td>INE021A01026</td>\n",
       "    </tr>\n",
       "    <tr>\n",
       "      <th>6</th>\n",
       "      <td>Aurobindo Pharma Ltd.</td>\n",
       "      <td>PHARMA</td>\n",
       "      <td>AUROPHARMA</td>\n",
       "      <td>EQ</td>\n",
       "      <td>INE406A01037</td>\n",
       "    </tr>\n",
       "    <tr>\n",
       "      <th>7</th>\n",
       "      <td>Avenue Supermarts Ltd.</td>\n",
       "      <td>CONSUMER GOODS</td>\n",
       "      <td>DMART</td>\n",
       "      <td>EQ</td>\n",
       "      <td>INE192R01011</td>\n",
       "    </tr>\n",
       "    <tr>\n",
       "      <th>8</th>\n",
       "      <td>Axis Bank Ltd.</td>\n",
       "      <td>FINANCIAL SERVICES</td>\n",
       "      <td>AXISBANK</td>\n",
       "      <td>EQ</td>\n",
       "      <td>INE238A01034</td>\n",
       "    </tr>\n",
       "    <tr>\n",
       "      <th>9</th>\n",
       "      <td>Bajaj Auto Ltd.</td>\n",
       "      <td>AUTOMOBILE</td>\n",
       "      <td>BAJAJ-AUTO</td>\n",
       "      <td>EQ</td>\n",
       "      <td>INE917I01010</td>\n",
       "    </tr>\n",
       "  </tbody>\n",
       "</table>\n",
       "</div>"
      ],
      "text/plain": [
       "                                 Company Name                  Industry  \\\n",
       "0                                    ACC Ltd.  CEMENT & CEMENT PRODUCTS   \n",
       "1  Adani Ports and Special Economic Zone Ltd.                  SERVICES   \n",
       "2                     Adani Transmission Ltd.                     POWER   \n",
       "3                         Ambuja Cements Ltd.  CEMENT & CEMENT PRODUCTS   \n",
       "4                          Ashok Leyland Ltd.                AUTOMOBILE   \n",
       "5                           Asian Paints Ltd.            CONSUMER GOODS   \n",
       "6                       Aurobindo Pharma Ltd.                    PHARMA   \n",
       "7                      Avenue Supermarts Ltd.            CONSUMER GOODS   \n",
       "8                              Axis Bank Ltd.        FINANCIAL SERVICES   \n",
       "9                             Bajaj Auto Ltd.                AUTOMOBILE   \n",
       "\n",
       "       Symbol Series     ISIN Code  \n",
       "0         ACC     EQ  INE012A01025  \n",
       "1  ADANIPORTS     EQ  INE742F01042  \n",
       "2  ADANITRANS     EQ  INE931S01010  \n",
       "3   AMBUJACEM     EQ  INE079A01024  \n",
       "4    ASHOKLEY     EQ  INE208A01029  \n",
       "5  ASIANPAINT     EQ  INE021A01026  \n",
       "6  AUROPHARMA     EQ  INE406A01037  \n",
       "7       DMART     EQ  INE192R01011  \n",
       "8    AXISBANK     EQ  INE238A01034  \n",
       "9  BAJAJ-AUTO     EQ  INE917I01010  "
      ]
     },
     "execution_count": 4,
     "metadata": {},
     "output_type": "execute_result"
    }
   ],
   "source": [
    "# read the matadata csv\n",
    "nifty_meta = pd.read_csv('nifty_meta.csv')\n",
    "nifty_meta.head(10)"
   ]
  },
  {
   "cell_type": "code",
   "execution_count": 5,
   "metadata": {},
   "outputs": [
    {
     "name": "stdout",
     "output_type": "stream",
     "text": [
      "['AXISBANK', 'BAJFINANCE', 'BAJAJFINSV', 'BAJAJHLDNG', 'BANDHANBNK', 'BANKBARODA', 'GICRE', 'HDFCAMC', 'HDFCBANK', 'HDFCLIFE', 'HDFC', 'ICICIBANK', 'ICICIGI', 'ICICIPRULI', 'IBULHSGFIN', 'INDUSINDBK', 'KOTAKBANK', 'L&TFH', 'PEL', 'PFC', 'PNB', 'SBILIFE', 'SRTRANSFIN', 'SBIN', 'NIACL']\n",
      "25\n"
     ]
    }
   ],
   "source": [
    "\n",
    "tickers = list(nifty_meta[nifty_meta.Industry=='FINANCIAL SERVICES'].Symbol)\n",
    "print(tickers)\n",
    "print(len(tickers))"
   ]
  },
  {
   "cell_type": "code",
   "execution_count": 6,
   "metadata": {},
   "outputs": [],
   "source": [
    "# start and end dates for testing\n",
    "fromdate = datetime.datetime(2010, 1, 1)\n",
    "todate = datetime.datetime(2020, 6, 15)"
   ]
  },
  {
   "cell_type": "code",
   "execution_count": 7,
   "metadata": {},
   "outputs": [
    {
     "data": {
      "text/html": [
       "<div>\n",
       "<style scoped>\n",
       "    .dataframe tbody tr th:only-of-type {\n",
       "        vertical-align: middle;\n",
       "    }\n",
       "\n",
       "    .dataframe tbody tr th {\n",
       "        vertical-align: top;\n",
       "    }\n",
       "\n",
       "    .dataframe thead th {\n",
       "        text-align: right;\n",
       "    }\n",
       "</style>\n",
       "<table border=\"1\" class=\"dataframe\">\n",
       "  <thead>\n",
       "    <tr style=\"text-align: right;\">\n",
       "      <th></th>\n",
       "      <th></th>\n",
       "      <th>open</th>\n",
       "      <th>high</th>\n",
       "      <th>low</th>\n",
       "      <th>close</th>\n",
       "    </tr>\n",
       "    <tr>\n",
       "      <th>ticker</th>\n",
       "      <th>date</th>\n",
       "      <th></th>\n",
       "      <th></th>\n",
       "      <th></th>\n",
       "      <th></th>\n",
       "    </tr>\n",
       "  </thead>\n",
       "  <tbody>\n",
       "    <tr>\n",
       "      <th rowspan=\"2\" valign=\"top\">AXISBANK</th>\n",
       "      <th>2010-01-04</th>\n",
       "      <td>198.779999</td>\n",
       "      <td>199.990005</td>\n",
       "      <td>197.619995</td>\n",
       "      <td>140.712021</td>\n",
       "    </tr>\n",
       "    <tr>\n",
       "      <th>2010-01-05</th>\n",
       "      <td>199.600006</td>\n",
       "      <td>204.000000</td>\n",
       "      <td>199.139999</td>\n",
       "      <td>143.647934</td>\n",
       "    </tr>\n",
       "  </tbody>\n",
       "</table>\n",
       "</div>"
      ],
      "text/plain": [
       "                           open        high         low       close\n",
       "ticker   date                                                      \n",
       "AXISBANK 2010-01-04  198.779999  199.990005  197.619995  140.712021\n",
       "         2010-01-05  199.600006  204.000000  199.139999  143.647934"
      ]
     },
     "execution_count": 7,
     "metadata": {},
     "output_type": "execute_result"
    }
   ],
   "source": [
    "# read the price data file\n",
    "prices = pd.read_csv('prices.csv', \n",
    "                     index_col=['ticker', 'date'], \n",
    "                     parse_dates=['date'],\n",
    "                     date_format='%Y-%m-%d')\n",
    "prices.head(2)"
   ]
  },
  {
   "cell_type": "code",
   "execution_count": 8,
   "metadata": {},
   "outputs": [
    {
     "name": "stdout",
     "output_type": "stream",
     "text": [
      "<class 'pandas.core.frame.DataFrame'>\n",
      "MultiIndex: 38580 entries, ('AXISBANK', Timestamp('2010-01-04 00:00:00')) to ('SRTRANSFIN', Timestamp('2020-06-15 00:00:00'))\n",
      "Data columns (total 4 columns):\n",
      " #   Column  Non-Null Count  Dtype  \n",
      "---  ------  --------------  -----  \n",
      " 0   open    38579 non-null  float64\n",
      " 1   high    38579 non-null  float64\n",
      " 2   low     38579 non-null  float64\n",
      " 3   close   38579 non-null  float64\n",
      "dtypes: float64(4)\n",
      "memory usage: 1.4+ MB\n"
     ]
    }
   ],
   "source": [
    "# remove tickers where we have less than 10 years of data.\n",
    "min_obs = 2520  # this is 10 years x 250 yearly trading days\n",
    "nobs = prices.groupby(level='ticker').size()\n",
    "keep = nobs[nobs>min_obs].index\n",
    "\n",
    "prices = prices.loc[idx[keep,:], :]\n",
    "prices.info()"
   ]
  },
  {
   "cell_type": "code",
   "execution_count": 9,
   "metadata": {},
   "outputs": [
    {
     "name": "stdout",
     "output_type": "stream",
     "text": [
      "15\n",
      "['AXISBANK', 'BAJAJFINSV', 'BAJAJHLDNG', 'BAJFINANCE', 'BANKBARODA', 'HDFC', 'HDFCBANK', 'ICICIBANK', 'INDUSINDBK', 'KOTAKBANK', 'PEL', 'PFC', 'PNB', 'SBIN', 'SRTRANSFIN']\n"
     ]
    }
   ],
   "source": [
    "# final tickers list\n",
    "TICKERS = list(prices.index.get_level_values('ticker').unique())\n",
    "print(len(TICKERS))\n",
    "print(TICKERS)"
   ]
  },
  {
   "cell_type": "code",
   "execution_count": 10,
   "metadata": {},
   "outputs": [
    {
     "data": {
      "text/html": [
       "<div>\n",
       "<style scoped>\n",
       "    .dataframe tbody tr th:only-of-type {\n",
       "        vertical-align: middle;\n",
       "    }\n",
       "\n",
       "    .dataframe tbody tr th {\n",
       "        vertical-align: top;\n",
       "    }\n",
       "\n",
       "    .dataframe thead th {\n",
       "        text-align: right;\n",
       "    }\n",
       "</style>\n",
       "<table border=\"1\" class=\"dataframe\">\n",
       "  <thead>\n",
       "    <tr style=\"text-align: right;\">\n",
       "      <th>ticker</th>\n",
       "      <th>AXISBANK</th>\n",
       "      <th>BAJAJFINSV</th>\n",
       "      <th>BAJAJHLDNG</th>\n",
       "      <th>BAJFINANCE</th>\n",
       "      <th>BANKBARODA</th>\n",
       "      <th>HDFC</th>\n",
       "      <th>HDFCBANK</th>\n",
       "      <th>ICICIBANK</th>\n",
       "      <th>INDUSINDBK</th>\n",
       "      <th>KOTAKBANK</th>\n",
       "      <th>PEL</th>\n",
       "      <th>PFC</th>\n",
       "      <th>PNB</th>\n",
       "      <th>SBIN</th>\n",
       "      <th>SRTRANSFIN</th>\n",
       "    </tr>\n",
       "    <tr>\n",
       "      <th>date</th>\n",
       "      <th></th>\n",
       "      <th></th>\n",
       "      <th></th>\n",
       "      <th></th>\n",
       "      <th></th>\n",
       "      <th></th>\n",
       "      <th></th>\n",
       "      <th></th>\n",
       "      <th></th>\n",
       "      <th></th>\n",
       "      <th></th>\n",
       "      <th></th>\n",
       "      <th></th>\n",
       "      <th></th>\n",
       "      <th></th>\n",
       "    </tr>\n",
       "  </thead>\n",
       "  <tbody>\n",
       "    <tr>\n",
       "      <th>2010-01-04</th>\n",
       "      <td>140.712021</td>\n",
       "      <td>347.934143</td>\n",
       "      <td>494.222076</td>\n",
       "      <td>16.031584</td>\n",
       "      <td>51.206989</td>\n",
       "      <td>429.764343</td>\n",
       "      <td>134.245209</td>\n",
       "      <td>85.319977</td>\n",
       "      <td>133.753540</td>\n",
       "      <td>202.426041</td>\n",
       "      <td>252.234650</td>\n",
       "      <td>61.325417</td>\n",
       "      <td>84.943443</td>\n",
       "      <td>95.066895</td>\n",
       "      <td>421.881561</td>\n",
       "    </tr>\n",
       "    <tr>\n",
       "      <th>2010-01-05</th>\n",
       "      <td>143.647934</td>\n",
       "      <td>348.708527</td>\n",
       "      <td>498.012665</td>\n",
       "      <td>15.924150</td>\n",
       "      <td>52.686508</td>\n",
       "      <td>431.226868</td>\n",
       "      <td>134.363205</td>\n",
       "      <td>86.130264</td>\n",
       "      <td>133.613098</td>\n",
       "      <td>204.430389</td>\n",
       "      <td>253.638733</td>\n",
       "      <td>62.669540</td>\n",
       "      <td>86.255913</td>\n",
       "      <td>95.102180</td>\n",
       "      <td>424.757904</td>\n",
       "    </tr>\n",
       "  </tbody>\n",
       "</table>\n",
       "</div>"
      ],
      "text/plain": [
       "ticker        AXISBANK  BAJAJFINSV  BAJAJHLDNG  BAJFINANCE  BANKBARODA  \\\n",
       "date                                                                     \n",
       "2010-01-04  140.712021  347.934143  494.222076   16.031584   51.206989   \n",
       "2010-01-05  143.647934  348.708527  498.012665   15.924150   52.686508   \n",
       "\n",
       "ticker            HDFC    HDFCBANK  ICICIBANK  INDUSINDBK   KOTAKBANK  \\\n",
       "date                                                                    \n",
       "2010-01-04  429.764343  134.245209  85.319977  133.753540  202.426041   \n",
       "2010-01-05  431.226868  134.363205  86.130264  133.613098  204.430389   \n",
       "\n",
       "ticker             PEL        PFC        PNB       SBIN  SRTRANSFIN  \n",
       "date                                                                 \n",
       "2010-01-04  252.234650  61.325417  84.943443  95.066895  421.881561  \n",
       "2010-01-05  253.638733  62.669540  86.255913  95.102180  424.757904  "
      ]
     },
     "execution_count": 10,
     "metadata": {},
     "output_type": "execute_result"
    }
   ],
   "source": [
    "# unstack and take close price\n",
    "close = prices.unstack('ticker')['close'].sort_index()\n",
    "close = close.dropna()\n",
    "close.head(2)"
   ]
  },
  {
   "cell_type": "markdown",
   "metadata": {},
   "source": [
    "Until now, we have organized and cleaned the data. "
   ]
  },
  {
   "cell_type": "markdown",
   "metadata": {},
   "source": [
    "Next, we split the close data to train_close and test_close. "
   ]
  },
  {
   "cell_type": "code",
   "execution_count": 11,
   "metadata": {},
   "outputs": [],
   "source": [
    "# train test split \n",
    "train_close, test_close = train_test_split(close, test_size=0.5, shuffle=False)"
   ]
  },
  {
   "cell_type": "code",
   "execution_count": 12,
   "metadata": {},
   "outputs": [],
   "source": [
    "# quick view of head and tail of train set\n",
    "# train_close.head(2).append(train_close.tail(2))"
   ]
  },
  {
   "cell_type": "markdown",
   "metadata": {},
   "source": [
    "<h4> Using train data to find cointegrated stocks"
   ]
  },
  {
   "cell_type": "code",
   "execution_count": 13,
   "metadata": {},
   "outputs": [
    {
     "data": {
      "image/png": "[encoded data removed]",
      "text/plain": [
       "<Figure size 720x504 with 2 Axes>"
      ]
     },
     "metadata": {
      "needs_background": "light"
     },
     "output_type": "display_data"
    }
   ],
   "source": [
    "# Pearson correlation to get the basic idea about the relationship\n",
    "fig, ax = plt.subplots(figsize=(10,7))\n",
    "sns.heatmap(train_close.pct_change().corr(method ='pearson'), ax=ax, cmap='coolwarm', annot=True, fmt=\".2f\") #spearman\n",
    "ax.set_title('Assets Correlation Matrix')\n",
    "plt.savefig('chart1', dpi=300)"
   ]
  },
  {
   "cell_type": "markdown",
   "metadata": {},
   "source": [
    "Which stocks could form interesting pairs according to the table?"
   ]
  },
  {
   "cell_type": "markdown",
   "metadata": {},
   "source": [
    "Next, we search cointegrated pairs. The corresponding function is given to you. \n",
    "Q4: What is the difference between correlated pairs and cointegrated pairs? Which stocks could form interesting pairs according to the table?"
   ]
  },
  {
   "cell_type": "code",
   "execution_count": 14,
   "metadata": {},
   "outputs": [],
   "source": [
    "# function to find cointegrated pairs\n",
    "def find_cointegrated_pairs(data):\n",
    "    n = data.shape[1]\n",
    "    pvalue_matrix = np.ones((n, n))\n",
    "    keys = data.keys()\n",
    "    pairs = []\n",
    "    for i in range(n):\n",
    "        for j in range(i+1, n):\n",
    "            result = coint(data[keys[i]], data[keys[j]])\n",
    "            pvalue_matrix[i, j] = result[1]\n",
    "            if result[1] < 0.05:\n",
    "                pairs.append((keys[i], keys[j]))\n",
    "    return pvalue_matrix, pairs"
   ]
  },
  {
   "cell_type": "markdown",
   "metadata": {},
   "source": [
    "Next, call the function find_cointegrated_pairs using as data the closing train data.  Then, print the pairs. Finally, draw a heatmap of the pvalues between pairs."
   ]
  },
  {
   "cell_type": "code",
   "execution_count": 15,
   "metadata": {},
   "outputs": [
    {
     "ename": "SyntaxError",
     "evalue": "invalid syntax (1770423123.py, line 2)",
     "output_type": "error",
     "traceback": [
      "\u001b[0;36m  Input \u001b[0;32mIn [15]\u001b[0;36m\u001b[0m\n\u001b[0;31m    pvalues, pairs =\u001b[0m\n\u001b[0m                     ^\u001b[0m\n\u001b[0;31mSyntaxError\u001b[0m\u001b[0;31m:\u001b[0m invalid syntax\n"
     ]
    }
   ],
   "source": [
    "# calculate p-values with find_cointegrated_pairs and plot a heatmap\n",
    "pvalues, pairs = "
   ]
  },
  {
   "cell_type": "code",
   "execution_count": null,
   "metadata": {},
   "outputs": [],
   "source": [
    "sns.heatmap(pvalues, xticklabels = train_close.columns,\n",
    "                yticklabels = train_close.columns, cmap = 'RdYlGn_r', annot = True, fmt=\".2f\",\n",
    "                mask = (pvalues >= 0.99))\n",
    "ax.set_title('Assets Cointegration Matrix p-values Between Pairs')\n",
    "plt.tight_layout()\n",
    "plt.savefig('chart2', dpi=300)"
   ]
  },
  {
   "cell_type": "markdown",
   "metadata": {},
   "source": [
    "Based on the cointegration heatmap, choose two assets. "
   ]
  },
  {
   "cell_type": "code",
   "execution_count": null,
   "metadata": {},
   "outputs": [],
   "source": [
    "# based on the cointegration heatmap above, choose two assets\n",
    "#asset1='MMM'\n",
    "#asset2='NNN'\n"
   ]
  },
  {
   "cell_type": "code",
   "execution_count": null,
   "metadata": {},
   "outputs": [],
   "source": [
    "# create a dataframe called 'train' consisting of two columns: the closing prices of asset1 and asset2. \n",
    "train = pd.DataFrame()\n",
    ".."
   ]
  },
  {
   "cell_type": "code",
   "execution_count": null,
   "metadata": {},
   "outputs": [],
   "source": [
    "# plot closing prices\n"
   ]
  },
  {
   "cell_type": "markdown",
   "metadata": {},
   "source": [
    "Once we have a pair of cointegrated stocks, we take a short position in one of the stocks and a long position in a certain amount H (hedge ratio) of the other stock. Next, we should find out the amount H. We do this by Original Least Square regression. You can look for advice, e.g., from here https://www.statsmodels.org/stable/index.html\n"
   ]
  },
  {
   "cell_type": "code",
   "execution_count": null,
   "metadata": {},
   "outputs": [],
   "source": [
    "# run OLS regression\n",
    "model=sm.OLS(train.asset2, train.asset1).fit()"
   ]
  },
  {
   "cell_type": "markdown",
   "metadata": {},
   "source": [
    "You can also try a robust version of the regression, see https://www.statsmodels.org/stable/rlm.html"
   ]
  },
  {
   "cell_type": "code",
   "execution_count": null,
   "metadata": {},
   "outputs": [],
   "source": [
    "#model=sm.RLM(train.asset2, train.asset1).fit()"
   ]
  },
  {
   "cell_type": "code",
   "execution_count": null,
   "metadata": {},
   "outputs": [],
   "source": [
    "# print regression summary results using model.summary\n"
   ]
  },
  {
   "cell_type": "markdown",
   "metadata": {},
   "source": [
    "What can you say about R-square and P-values?"
   ]
  },
  {
   "cell_type": "markdown",
   "metadata": {},
   "source": [
    "Next, you should find from the table above the hedge ratio H / coefficient for asset 1. You may need 'model.params'."
   ]
  },
  {
   "cell_type": "code",
   "execution_count": null,
   "metadata": {},
   "outputs": [],
   "source": [
    "print('Hedge Ratio = ', model.params[0])"
   ]
  },
  {
   "cell_type": "markdown",
   "metadata": {},
   "source": [
    "Now, we move to taking a long position in asset2 and a short position in (H * asset1). First, calculate the spread between the long position and the short position. \n",
    " "
   ]
  },
  {
   "cell_type": "code",
   "execution_count": null,
   "metadata": {},
   "outputs": [],
   "source": [
    "# calculate spread\n",
    "spread = "
   ]
  },
  {
   "cell_type": "code",
   "execution_count": null,
   "metadata": {},
   "outputs": [],
   "source": [
    "# Plot the spread\n"
   ]
  },
  {
   "cell_type": "markdown",
   "metadata": {},
   "source": [
    "<h4> Testing the trading strategy with test data:"
   ]
  },
  {
   "cell_type": "markdown",
   "metadata": {},
   "source": [
    "We next generate Trading Signals using z-score. What is the z-score? "
   ]
  },
  {
   "cell_type": "markdown",
   "metadata": {},
   "source": [
    "We define a function 'zscore' with input v, returning the z-score z = ( v - μ ) / σ , where v is the value being evaluated, μ is the mean and σ is the standard deviation. "
   ]
  },
  {
   "cell_type": "code",
   "execution_count": null,
   "metadata": {},
   "outputs": [],
   "source": [
    "# calculate z-score\n",
    "def zscore(series):\n",
    "    return ...."
   ]
  },
  {
   "cell_type": "markdown",
   "metadata": {},
   "source": [
    "We create a dataframe called 'signals' with two columns: 'asset1' = the closing prices of the test data of asset1. 'asset2'  is similar. We then calculate ratios of the closing prices and plot the ratios. Explanation: As the stocks are cointegrated, we assume that there is a long-average mean of this ratio.  When there is a deviation in the ratio (\n",
    "price relationship of these stocks), we expect this to be mean reverting. We will take a long position the\n",
    "underperforming stock and a short position in the outperforming one. "
   ]
  },
  {
   "cell_type": "code",
   "execution_count": null,
   "metadata": {},
   "outputs": [],
   "source": [
    "# create a dataframe for trading signals. Compute then the ratio: test data closing price of asset1/asset2. \n",
    "signals = pd.DataFrame()\n",
    "..\n",
    "..\n",
    "ratios = \n",
    "plt.plot(ratios)\n"
   ]
  },
  {
   "cell_type": "markdown",
   "metadata": {},
   "source": [
    "Next, we calculate the z-score of the ratios using the function zscore defined above. We add this data as 'z' in the signals dataframe. We compute the upper and lower limit for z. The upper limit is 1 standard deviation above the mean. The lower limit is 1 standard deviation below the mean."
   ]
  },
  {
   "cell_type": "code",
   "execution_count": null,
   "metadata": {},
   "outputs": [],
   "source": [
    "# calculate z-score and define upper and lower thresholds\n",
    "signals['z'] = zscore(ratios)\n",
    "signals['z upper limit'] = \n",
    "signals['z lower limit'] = "
   ]
  },
  {
   "cell_type": "markdown",
   "metadata": {},
   "source": [
    "We create in the signals dataframe a new column 'signals1'. This column has values 1 and -1 with the following logic: If z-score is greater than the upper threshold then we will have -1 (short signal). If  z-score is less than the lower threshold then we will have +1 (long signal). The default is zero for no signal (the z-score is within the upper and the lower boundary)\n",
    "\n",
    "If you need help, this piece of code is given in the end of this python file. "
   ]
  },
  {
   "cell_type": "code",
   "execution_count": null,
   "metadata": {},
   "outputs": [],
   "source": [
    "# create signal - short if z-score is greater than upper limit else long\n",
    ".."
   ]
  },
  {
   "cell_type": "markdown",
   "metadata": {},
   "source": [
    "We create a positions column in 'signals'. We use the first-order difference of the signal column to obtain the stock position. If it is +1 then we go long, -1 then short and 0 if no position.\n",
    "\n",
    "The second signal is opposite to first as we go long on one stock and simultaneously short on the other one. Similarly, take the first-order difference for the second signal and calculate the second position column. \n"
   ]
  },
  {
   "cell_type": "code",
   "execution_count": null,
   "metadata": {},
   "outputs": [],
   "source": [
    "# we take the first order difference to obtain portfolio position in that stock\n",
    "signals['positions1'] = \n"
   ]
  },
  {
   "cell_type": "code",
   "execution_count": null,
   "metadata": {},
   "outputs": [],
   "source": [
    "# verify dataframe head and tail\n",
    "signals.head(5).append(signals.tail(5))"
   ]
  },
  {
   "cell_type": "code",
   "execution_count": null,
   "metadata": {},
   "outputs": [],
   "source": [
    "# visualize trading signals and position\n",
    "fig=plt.figure(figsize=(14,6))\n",
    "bx = fig.add_subplot(111)   \n",
    "bx2 = bx.twinx()\n",
    "\n",
    "#plot two different assets\n",
    "l1, = bx.plot(signals['asset1'], c='#4abdac')\n",
    "l2, = bx2.plot(signals['asset2'], c='#907163')\n",
    "\n",
    "u1, = bx.plot(signals['asset1'][signals['positions1'] == 1], lw=0, marker='^', markersize=8, c='g',alpha=0.7)\n",
    "\n",
    "d1, = bx.plot(signals['asset1'][signals['positions1'] == -1], lw=0,marker='v',markersize=8, c='r',alpha=0.7)\n",
    "\n",
    "u2, = bx2.plot(signals['asset2'][signals['positions2'] == 1], lw=0,marker=2,markersize=9, c='g',alpha=0.9, markeredgewidth=3)\n",
    "\n",
    "d2, = bx2.plot(signals['asset2'][signals['positions2'] == -1], lw=0,marker=3,markersize=9, c='r',alpha=0.9,markeredgewidth=3)\n",
    "\n",
    "bx.set_ylabel(asset1,)\n",
    "bx2.set_ylabel(asset2, rotation=270)\n",
    "bx.yaxis.labelpad=15\n",
    "bx2.yaxis.labelpad=15\n",
    "bx.set_xlabel('Date')\n",
    "bx.xaxis.labelpad=15\n",
    "\n",
    "plt.legend([l1,l2,u1,d1,u2,d2], [asset1, asset2,'LONG {}'.format(asset1),\n",
    "           'SHORT {}'.format(asset1),\n",
    "           'LONG {}'.format(asset2),\n",
    "           'SHORT {}'.format(asset2)], loc ='best')\n",
    "\n",
    "plt.title('Pair Trading - Trading Signals and Position')\n",
    "plt.xlabel('Date')\n",
    "plt.grid(True)\n",
    "plt.tight_layout()\n",
    "plt.savefig('chart7', dpi=300);"
   ]
  },
  {
   "cell_type": "markdown",
   "metadata": {},
   "source": [
    "<h3>Portfolio Profit and Loss Calculation</h3>"
   ]
  },
  {
   "cell_type": "markdown",
   "metadata": {},
   "source": [
    "We test our trading strategy. The initial capital is 100000. We invest it in asset1 and asset2. To ensure that we will not run out of money, we compute the initial positions using the mximum price of each asset. "
   ]
  },
  {
   "cell_type": "code",
   "execution_count": null,
   "metadata": {},
   "outputs": [],
   "source": [
    "# initial capital to calculate the actual pnl\n",
    "initial_capital = 100000\n",
    "\n",
    "# shares to buy for each position\n",
    "positions1 = initial_capital// max(signals['asset1'])\n",
    "positions2 = initial_capital// max(signals['asset2'])\n"
   ]
  },
  {
   "cell_type": "markdown",
   "metadata": {},
   "source": [
    "We calculate holding in the first stock by taking the cumulative sum of its position\n",
    "multiplied by stock price and the total number of shares. We then calculate the cash position by subtracting holding from the initial cash position. The\n",
    "total position of stock in the portfolio is the sum of cash plus holding. We calculate daily returns using total stock position.\n"
   ]
  },
  {
   "cell_type": "code",
   "execution_count": null,
   "metadata": {},
   "outputs": [],
   "source": [
    "# since there are two assets, we calculate each asset Pnl separately \n",
    "# and in the end we aggregate them into one portfolio\n",
    "portfolio = pd.DataFrame()\n",
    "portfolio['asset1'] = signals['asset1']\n",
    "portfolio['holdings1'] = signals['positions1'].cumsum() * signals['asset1'] * positions1\n",
    "portfolio['cash1'] = \n",
    "portfolio['total asset1'] = \n",
    "portfolio['return1'] = \n",
    "portfolio['positions1'] = "
   ]
  },
  {
   "cell_type": "code",
   "execution_count": null,
   "metadata": {},
   "outputs": [],
   "source": [
    "# pnl for the 2nd asset\n",
    ".."
   ]
  },
  {
   "cell_type": "code",
   "execution_count": null,
   "metadata": {},
   "outputs": [],
   "source": [
    "# total pnl and z-score\n",
    "portfolio['z'] = signals['z']\n",
    "portfolio['total asset'] = portfolio['total asset1'] + portfolio['total asset2']\n",
    "portfolio['z upper limit'] = signals['z upper limit']\n",
    "portfolio['z lower limit'] = signals['z lower limit']\n",
    "portfolio = portfolio.dropna()"
   ]
  },
  {
   "cell_type": "code",
   "execution_count": null,
   "metadata": {},
   "outputs": [],
   "source": [
    "# plot the asset value change of the portfolio and pnl along with z-score\n",
    "fig = plt.figure(figsize=(14,6),)\n",
    "ax = fig.add_subplot(111)\n",
    "ax2 = ax.twinx()\n",
    "\n",
    "l1, = ax.plot(portfolio['total asset'], c='g')\n",
    "l2, = ax2.plot(portfolio['z'], c='black', alpha=0.3)\n",
    "\n",
    "b = ax2.fill_between(portfolio.index,portfolio['z upper limit'],\\\n",
    "                portfolio['z lower limit'], \\\n",
    "                alpha=0.2,color='#ffb48f')\n",
    "\n",
    "ax.set_ylabel('Portfolio Value')\n",
    "ax2.set_ylabel('Z Statistics',rotation=270)\n",
    "ax.yaxis.labelpad=15\n",
    "ax2.yaxis.labelpad=15\n",
    "ax.set_xlabel('Date')\n",
    "ax.xaxis.labelpad=15\n",
    "plt.title('Portfolio Performance with Profit and Loss')\n",
    "plt.legend([l2,b,l1],['Z Statistics',\n",
    "                      'Z Statistics +-1 Sigma',\n",
    "                      'Total Portfolio Value'],loc='upper left');\n",
    "plt.savefig('chart8', dpi=300);"
   ]
  },
  {
   "cell_type": "markdown",
   "metadata": {},
   "source": [
    "How would you analyze this strategy?"
   ]
  },
  {
   "cell_type": "code",
   "execution_count": null,
   "metadata": {},
   "outputs": [],
   "source": []
  },
  {
   "cell_type": "code",
   "execution_count": null,
   "metadata": {},
   "outputs": [],
   "source": [
    "def generate_signal(z, upper_limit, lower_limit):\n",
    "    if z > upper_limit:\n",
    "        return -1\n",
    "    elif z < lower_limit:\n",
    "        return 1\n",
    "    else:\n",
    "        return 0\n",
    "\n",
    "signals['signals1'] = np.vectorize(generate_signal)(signals['z'], signals['z upper limit'], signals['z lower limit'])\n"
   ]
  }
 ],
 "metadata": {
  "kernelspec": {
   "display_name": "Python 3",
   "language": "python",
   "name": "python3"
  },
  "language_info": {
   "codemirror_mode": {
    "name": "ipython",
    "version": 3
   },
   "file_extension": ".py",
   "mimetype": "text/x-python",
   "name": "python",
   "nbconvert_exporter": "python",
   "pygments_lexer": "ipython3",
   "version": "3.10.12"
  }
 },
 "nbformat": 4,
 "nbformat_minor": 4
}
