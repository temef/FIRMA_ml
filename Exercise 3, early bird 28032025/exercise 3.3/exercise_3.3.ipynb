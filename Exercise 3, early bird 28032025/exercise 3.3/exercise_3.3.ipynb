{
 "cells": [
  {
   "cell_type": "markdown",
   "id": "5913c89c",
   "metadata": {},
   "source": [
    "# Exercise 3.3: Cross Validation\n",
    "\n",
    "Exercise based on Chapter 7 of the book Advances in Financial Machine Learning by Marcos Lopez de Prado.\n",
    "\n",
    "In this exercise we will familiarize ourselves with some of the pitfalls of employing standard cross validation techniques to financial data. We will then take a look at some remedies, as well as explore when these have the greatest impact on measured performance."
   ]
  },
  {
   "cell_type": "code",
   "execution_count": 1,
   "id": "22e357d9",
   "metadata": {
    "jupyter": {
     "source_hidden": true
    },
    "tags": []
   },
   "outputs": [],
   "source": [
    "import numpy as np\n",
    "import pandas as pd\n",
    "import matplotlib.pyplot as plt\n",
    "\n",
    "from sklearn.ensemble import RandomForestClassifier\n",
    "from sklearn.model_selection import KFold\n",
    "from sklearn.model_selection import cross_val_score\n",
    "\n",
    "import warnings\n",
    "warnings.filterwarnings('ignore')"
   ]
  },
  {
   "cell_type": "markdown",
   "id": "a0c83d43",
   "metadata": {},
   "source": [
    "## K-fold Cross Validation\n",
    "\n",
    "In order to play around with cross validation we first need to choose a model to test. For the purposes of this exercise we will utilize a simple random forest classifier to predict the labels generated using the triple-barrier method in exercise 2. As input features we will use the five previous prices known at the time the position was taken. We will then evaluate the performance of the classifier using variations of K-fold cross validation."
   ]
  },
  {
   "cell_type": "code",
   "execution_count": 16,
   "id": "3254e2e5",
   "metadata": {},
   "outputs": [
    {
     "data": {
      "text/html": [
       "<div>\n",
       "<style scoped>\n",
       "    .dataframe tbody tr th:only-of-type {\n",
       "        vertical-align: middle;\n",
       "    }\n",
       "\n",
       "    .dataframe tbody tr th {\n",
       "        vertical-align: top;\n",
       "    }\n",
       "\n",
       "    .dataframe thead th {\n",
       "        text-align: right;\n",
       "    }\n",
       "</style>\n",
       "<table border=\"1\" class=\"dataframe\">\n",
       "  <thead>\n",
       "    <tr style=\"text-align: right;\">\n",
       "      <th></th>\n",
       "      <th>position_start</th>\n",
       "      <th>position_end</th>\n",
       "      <th>label</th>\n",
       "    </tr>\n",
       "  </thead>\n",
       "  <tbody>\n",
       "    <tr>\n",
       "      <th>0</th>\n",
       "      <td>2010-01-04 18:26:23</td>\n",
       "      <td>2010-01-05 18:59:52</td>\n",
       "      <td>1</td>\n",
       "    </tr>\n",
       "    <tr>\n",
       "      <th>1</th>\n",
       "      <td>2010-01-04 18:52:10</td>\n",
       "      <td>2010-01-05 18:59:52</td>\n",
       "      <td>1</td>\n",
       "    </tr>\n",
       "    <tr>\n",
       "      <th>2</th>\n",
       "      <td>2010-01-04 21:21:08</td>\n",
       "      <td>2010-01-05 22:01:33</td>\n",
       "      <td>-1</td>\n",
       "    </tr>\n",
       "    <tr>\n",
       "      <th>3</th>\n",
       "      <td>2010-01-04 22:43:50</td>\n",
       "      <td>2010-01-06 00:08:46</td>\n",
       "      <td>-1</td>\n",
       "    </tr>\n",
       "    <tr>\n",
       "      <th>4</th>\n",
       "      <td>2010-01-05 00:14:59</td>\n",
       "      <td>2010-01-06 01:14:27</td>\n",
       "      <td>-1</td>\n",
       "    </tr>\n",
       "  </tbody>\n",
       "</table>\n",
       "</div>"
      ],
      "text/plain": [
       "        position_start         position_end  label\n",
       "0  2010-01-04 18:26:23  2010-01-05 18:59:52      1\n",
       "1  2010-01-04 18:52:10  2010-01-05 18:59:52      1\n",
       "2  2010-01-04 21:21:08  2010-01-05 22:01:33     -1\n",
       "3  2010-01-04 22:43:50  2010-01-06 00:08:46     -1\n",
       "4  2010-01-05 00:14:59  2010-01-06 01:14:27     -1"
      ]
     },
     "execution_count": 16,
     "metadata": {},
     "output_type": "execute_result"
    }
   ],
   "source": [
    "import pandas as pd\n",
    "\n",
    "# Load labeled positions and parse datetime strings during file read\n",
    "df = pd.read_csv('./data/labeled_positions.csv', index_col=0, parse_dates=['position_start', 'position_end'], infer_datetime_format=True)\n",
    "\n",
    "df.drop(['profit_return_lim', 'loss_return_lim', 'touch_time'], axis=1, inplace=True)\n",
    "\n",
    "# Load entire dollar bar dataset\n",
    "df2 = pd.read_csv('./data/dollar_bars.csv', parse_dates=['datetime'], infer_datetime_format=True)\n",
    "\n",
    "df.head()"
   ]
  },
  {
   "cell_type": "markdown",
   "id": "48069d45",
   "metadata": {},
   "source": [
    "Having loaded both the labeled positions and the entire dollar bar dataset we will for each position find the five previos prices in the dollar bar data and add them as features labeled `p0` to `p4`."
   ]
  },
  {
   "cell_type": "code",
   "execution_count": 17,
   "id": "70997571",
   "metadata": {},
   "outputs": [],
   "source": [
    "def find_prices(dfr, position):\n",
    "    start = position['position_start']\n",
    "    \n",
    "    # Find row index of the position start in the whole dollar bar dataset\n",
    "    i = dfr[dfr['datetime'] == start].index\n",
    "    \n",
    "    # Convert index to a numpy array and access elements by integer indexing\n",
    "    i5 = i.to_numpy()[0] - np.arange(4, -1, -1)\n",
    "    \n",
    "    # Return five previous prices\n",
    "    return dfr['price'].iloc[i5].values"
   ]
  },
  {
   "cell_type": "code",
   "execution_count": 18,
   "id": "e4785bdf",
   "metadata": {},
   "outputs": [
    {
     "data": {
      "text/html": [
       "<div>\n",
       "<style scoped>\n",
       "    .dataframe tbody tr th:only-of-type {\n",
       "        vertical-align: middle;\n",
       "    }\n",
       "\n",
       "    .dataframe tbody tr th {\n",
       "        vertical-align: top;\n",
       "    }\n",
       "\n",
       "    .dataframe thead th {\n",
       "        text-align: right;\n",
       "    }\n",
       "</style>\n",
       "<table border=\"1\" class=\"dataframe\">\n",
       "  <thead>\n",
       "    <tr style=\"text-align: right;\">\n",
       "      <th></th>\n",
       "      <th>position_start</th>\n",
       "      <th>position_end</th>\n",
       "      <th>label</th>\n",
       "      <th>p0</th>\n",
       "      <th>p1</th>\n",
       "      <th>p2</th>\n",
       "      <th>p3</th>\n",
       "      <th>p4</th>\n",
       "    </tr>\n",
       "  </thead>\n",
       "  <tbody>\n",
       "    <tr>\n",
       "      <th>0</th>\n",
       "      <td>2010-01-04 18:26:23</td>\n",
       "      <td>2010-01-05 18:59:52</td>\n",
       "      <td>1</td>\n",
       "      <td>1128.2</td>\n",
       "      <td>1128.2</td>\n",
       "      <td>1128.1</td>\n",
       "      <td>1127.6</td>\n",
       "      <td>1127.8</td>\n",
       "    </tr>\n",
       "    <tr>\n",
       "      <th>1</th>\n",
       "      <td>2010-01-04 18:52:10</td>\n",
       "      <td>2010-01-05 18:59:52</td>\n",
       "      <td>1</td>\n",
       "      <td>1128.2</td>\n",
       "      <td>1128.1</td>\n",
       "      <td>1127.6</td>\n",
       "      <td>1127.8</td>\n",
       "      <td>1127.5</td>\n",
       "    </tr>\n",
       "    <tr>\n",
       "      <th>2</th>\n",
       "      <td>2010-01-04 21:21:08</td>\n",
       "      <td>2010-01-05 22:01:33</td>\n",
       "      <td>-1</td>\n",
       "      <td>1127.6</td>\n",
       "      <td>1127.8</td>\n",
       "      <td>1127.5</td>\n",
       "      <td>1127.5</td>\n",
       "      <td>1128.6</td>\n",
       "    </tr>\n",
       "    <tr>\n",
       "      <th>3</th>\n",
       "      <td>2010-01-04 22:43:50</td>\n",
       "      <td>2010-01-06 00:08:46</td>\n",
       "      <td>-1</td>\n",
       "      <td>1127.8</td>\n",
       "      <td>1127.5</td>\n",
       "      <td>1127.5</td>\n",
       "      <td>1128.6</td>\n",
       "      <td>1128.4</td>\n",
       "    </tr>\n",
       "    <tr>\n",
       "      <th>4</th>\n",
       "      <td>2010-01-05 00:14:59</td>\n",
       "      <td>2010-01-06 01:14:27</td>\n",
       "      <td>-1</td>\n",
       "      <td>1127.5</td>\n",
       "      <td>1127.5</td>\n",
       "      <td>1128.6</td>\n",
       "      <td>1128.4</td>\n",
       "      <td>1128.1</td>\n",
       "    </tr>\n",
       "  </tbody>\n",
       "</table>\n",
       "</div>"
      ],
      "text/plain": [
       "        position_start         position_end  label      p0      p1      p2  \\\n",
       "0  2010-01-04 18:26:23  2010-01-05 18:59:52      1  1128.2  1128.2  1128.1   \n",
       "1  2010-01-04 18:52:10  2010-01-05 18:59:52      1  1128.2  1128.1  1127.6   \n",
       "2  2010-01-04 21:21:08  2010-01-05 22:01:33     -1  1127.6  1127.8  1127.5   \n",
       "3  2010-01-04 22:43:50  2010-01-06 00:08:46     -1  1127.8  1127.5  1127.5   \n",
       "4  2010-01-05 00:14:59  2010-01-06 01:14:27     -1  1127.5  1127.5  1128.6   \n",
       "\n",
       "       p3      p4  \n",
       "0  1127.6  1127.8  \n",
       "1  1127.8  1127.5  \n",
       "2  1127.5  1128.6  \n",
       "3  1128.6  1128.4  \n",
       "4  1128.4  1128.1  "
      ]
     },
     "execution_count": 18,
     "metadata": {},
     "output_type": "execute_result"
    }
   ],
   "source": [
    "df[[f'p{i}' for i in range(5)]] = df.apply(lambda x: find_prices(df2, x), axis=1, result_type='expand')\n",
    "df.head()"
   ]
  },
  {
   "cell_type": "markdown",
   "id": "05e0e5a5",
   "metadata": {},
   "source": [
    "Now that we have both our features and our label we can train a model and evaluate it using [K-Fold cross validation](https://scikit-learn.org/stable/modules/generated/sklearn.model_selection.KFold.html). The function defined below trains a random forest classifier, evaluates it and prints out the average accuracy across folds.\n",
    "\n",
    "An important parameter for the cross validation process is whether or not to shuffle the data before splitting into batches is done. For time series data such as ours this affects whether the testing data forms a contiguous block or not."
   ]
  },
  {
   "cell_type": "code",
   "execution_count": 25,
   "id": "d3d0faa8",
   "metadata": {},
   "outputs": [],
   "source": [
    "def kfold(df, shuffle=False, folds=8):\n",
    "    X = df[[f'p{i}' for i in range(5)]].values\n",
    "    y = df['label'].values\n",
    "\n",
    "    scores = cross_val_score(RandomForestClassifier(), X, y, cv=folds)\n",
    "    print(f'Average accuracy: {np.mean(scores)}')"
   ]
  },
  {
   "cell_type": "code",
   "execution_count": 26,
   "id": "941a9f82",
   "metadata": {},
   "outputs": [
    {
     "name": "stdout",
     "output_type": "stream",
     "text": [
      "Average accuracy: 0.22155252845339857\n"
     ]
    }
   ],
   "source": [
    "df3 = df\n",
    "#df3 = df.iloc[:10000]\n",
    "kfold(df3, shuffle=False)"
   ]
  },
  {
   "cell_type": "code",
   "execution_count": 22,
   "id": "663beda7",
   "metadata": {},
   "outputs": [
    {
     "name": "stdout",
     "output_type": "stream",
     "text": [
      "Average accuracy: 0.22165670689367079\n"
     ]
    }
   ],
   "source": [
    "df4 = df\n",
    "#df4 = df.iloc[:10000]\n",
    "kfold(df4, shuffle=True)"
   ]
  },
  {
   "cell_type": "markdown",
   "id": "3058e17a",
   "metadata": {},
   "source": [
    "### <u>Task 1</u>\n",
    "\n",
    "Compare the reported accuracies with and without shuffling and with varying amounts of the data used. Analyze the results.\n",
    "\n",
    "Which one gives a beter accuracy reading and does it depend on the amount of data used? Why is this the case, in particular with our financial timeseries dataset?"
   ]
  },
  {
   "cell_type": "markdown",
   "id": "d34e7c17",
   "metadata": {},
   "source": [
    "## Purged K-fold Cross validation\n",
    "\n",
    "In order the improve the reliability of our cross validation results we can utilize a slight variant called purged K-fold cross validation. The difference to ordinary K-fold CV is that before training our model we will purge the training dataset of those positions that in any way overlap with a position in the testing dataset. This is to prevent information leakage between the two datasets.\n",
    "\n",
    "By overlapping positions we mean any two positions that were open at the same time and thus depend on common parts of the price history.\n",
    "\n",
    "The function below implements the purged variant of K-fold CV."
   ]
  },
  {
   "cell_type": "code",
   "execution_count": 31,
   "id": "53d7cfde",
   "metadata": {},
   "outputs": [],
   "source": [
    "def purged_kfold(df, folds=8):\n",
    "    \n",
    "    kf = KFold(n_splits=folds, shuffle=False)\n",
    "\n",
    "    scores = np.zeros(folds)\n",
    "    for i, (train_index, test_index) in enumerate(kf.split(df)):\n",
    "\n",
    "        df_train = df.iloc[train_index]\n",
    "        df_test = df.iloc[test_index]\n",
    "\n",
    "        test_first_start = df_test['position_start'].min()\n",
    "        test_last_end = df_test['position_end'].max()\n",
    "\n",
    "        # In order to prevent overlap we only keep training positions that ended before the first testing position\n",
    "        # was opened or that started after the last testing position was closed\n",
    "        keep = (df_train['position_end'] < test_first_start) | (df_train['position_start'] > test_last_end)\n",
    "        print(f'Keeping {np.round(np.mean(keep.values)*100, 1)}% of train data in fold {i}')\n",
    "        df_train = df_train[keep]\n",
    "\n",
    "        X_train = df_train[[f'p{i}' for i in range(5)]].values\n",
    "        y_train = df_train['label'].values\n",
    "\n",
    "        X_test = df_test[[f'p{i}' for i in range(5)]].values\n",
    "        y_test = df_test['label'].values\n",
    "\n",
    "        clf = RandomForestClassifier()\n",
    "        clf.fit(X_train, y_train)\n",
    "\n",
    "        scores[i] = clf.score(X_test, y_test)\n",
    "    \n",
    "    print(f'\\nAverage accuracy: {np.mean(scores)}')"
   ]
  },
  {
   "cell_type": "code",
   "execution_count": null,
   "id": "36458c56",
   "metadata": {},
   "outputs": [],
   "source": [
    "import numpy as np\n",
    "import pandas as pd\n",
    "from sklearn.ensemble import RandomForestClassifier\n",
    "from sklearn.metrics import accuracy_score\n",
    "from mlfinlab.cross_validation import PurgedKFold\n",
    "\n",
    "def purged_kfold(df, folds=8):\n",
    "\n",
    "\n",
    "    scores = np.zeros(folds)\n",
    " \n",
    "    previous_prices = []\n",
    "    \n",
    "    for start in df['position_start']:\n",
    "        # Find the row index of the position start in the reference dataframe\n",
    "        index = datetime_to_index.get(start, np.nan)\n",
    "        \n",
    "        # If the start datetime is not found, use NaN for previous prices\n",
    "        if pd.isna(index) or index < 4:\n",
    "            previous_prices.append([np.nan]*5)\n",
    "        else:\n",
    "            # Get the indices for the previous 5 prices\n",
    "            indices = np.arange(index - 4, index + 1)\n",
    "            # Append the previous 5 prices\n",
    "            previous_prices.append(reference_df.loc[indices, 'price'].values)\n",
    "    \n",
    "    previous_prices = np.array(previous_prices)\n",
    "    \n",
    "    for i in range(5):\n",
    "        df[f'p{i}'] = previous_prices[:, i]\n",
    "\n",
    "    # Prepare the data for cross-validation\n",
    "    X = df[[f'p{i}' for i in range(5)]]\n",
    "    y = df['label']\n",
    "    \n",
    "    # Perform PurgedKFold cross-validation\n",
    "    cv = PurgedKFold(n_splits=folds, t1=df['position_end'])\n",
    "    \n",
    "    scores = []\n",
    "\n",
    "    for train_index, test_index in cv.split(X, y, df['position_start']):\n",
    "        X_train, X_test = X.iloc[train_index], X.iloc[test_index]\n",
    "        y_train, y_test = y.iloc[train_index], y.iloc[test_index]\n",
    "        \n",
    "        clf = RandomForestClassifier()\n",
    "        clf.fit(X_train, y_train)\n",
    "        y_pred = clf.predict(X_test)\n",
    "        \n",
    "        score = accuracy_score(y_test, y_pred)\n",
    "        scores.append(score)\n",
    "        print(f\"Fold Score: {score}\")\n",
    "\n",
    "    mean_score = np.mean(scores)\n",
    "    print(f\"Mean Cross-Validation Score: {mean_score}\")\n",
    "    return mean_score\n",
    "\n",
    "\n",
    "\n",
    " \n"
   ]
  },
  {
   "cell_type": "code",
   "execution_count": 32,
   "id": "184ada6e",
   "metadata": {},
   "outputs": [
    {
     "name": "stdout",
     "output_type": "stream",
     "text": [
      "Keeping 99.8% of train data in fold 0\n",
      "Keeping 99.8% of train data in fold 1\n",
      "Keeping 99.5% of train data in fold 2\n",
      "Keeping 99.7% of train data in fold 3\n",
      "Keeping 99.8% of train data in fold 4\n",
      "Keeping 99.9% of train data in fold 5\n",
      "Keeping 99.9% of train data in fold 6\n",
      "Keeping 100.0% of train data in fold 7\n",
      "\n",
      "Average accuracy: 0.36430351039892045\n"
     ]
    }
   ],
   "source": [
    "df3 = df\n",
    "#df3 = df.iloc[:2000]\n",
    "purged_kfold(df3)"
   ]
  },
  {
   "cell_type": "code",
   "execution_count": null,
   "id": "eca3f1d6",
   "metadata": {},
   "outputs": [
    {
     "name": "stdout",
     "output_type": "stream",
     "text": [
      "Average accuracy: 0.22164513818640602\n"
     ]
    },
    {
     "ename": "",
     "evalue": "",
     "output_type": "error",
     "traceback": [
      "\u001b[1;31mThe Kernel crashed while executing code in the current cell or a previous cell. \n",
      "\u001b[1;31mPlease review the code in the cell(s) to identify a possible cause of the failure. \n",
      "\u001b[1;31mClick <a href='https://aka.ms/vscodeJupyterKernelCrash'>here</a> for more info. \n",
      "\u001b[1;31mView Jupyter <a href='command:jupyter.viewOutput'>log</a> for further details."
     ]
    }
   ],
   "source": [
    "df3 = df\n",
    "#df3 = df.iloc[:2000]\n",
    "kfold(df3)"
   ]
  },
  {
   "cell_type": "markdown",
   "id": "fb4452c4",
   "metadata": {},
   "source": [
    "### <u>Task 2</u>\n",
    "\n",
    "Compare the reported accuracies of normal and purged K-fold CV with varying amounts of the data used. Perform a similar analysis as in the previous task, with particular emphasis on the effect the amount of data used has. What would happen if we were to combine shuffling with purged K-fold CV?\n",
    "\n",
    "**BONUS:** Add shuffling into the purged variant and modify the purging process to account for this."
   ]
  },
  {
   "cell_type": "code",
   "execution_count": null,
   "id": "17cd74aa-40ae-4cae-ac82-de5d4e8ec2a4",
   "metadata": {},
   "outputs": [],
   "source": []
  }
 ],
 "metadata": {
  "kernelspec": {
   "display_name": "Python 3",
   "language": "python",
   "name": "python3"
  },
  "language_info": {
   "codemirror_mode": {
    "name": "ipython",
    "version": 3
   },
   "file_extension": ".py",
   "mimetype": "text/x-python",
   "name": "python",
   "nbconvert_exporter": "python",
   "pygments_lexer": "ipython3",
   "version": "3.12.9"
  },
  "vscode": {
   "interpreter": {
    "hash": "d251a24e141a11dbbc56b683ed17426da26795431b37ecf518cbb542d567ce67"
   }
  }
 },
 "nbformat": 4,
 "nbformat_minor": 5
}
