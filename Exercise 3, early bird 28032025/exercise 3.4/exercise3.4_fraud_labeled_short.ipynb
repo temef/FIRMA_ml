{
 "cells": [
  {
   "cell_type": "markdown",
   "id": "5e9286bd",
   "metadata": {},
   "source": [
    "***Notebook Author:*** Trenton McKinney\n",
    "Course: DataCamp: Fraud Detection in Python\n",
    "This notebook was created as a reproducible reference.\n",
    "\n",
    "This exercise uses parts of McKinney's notebook. Some comments and questions have been added by RK. "
   ]
  },
  {
   "cell_type": "markdown",
   "id": "90f9f9a6-cc54-45a8-b15d-e398b57c2207",
   "metadata": {},
   "source": [
    "<h4> 3.4 Fraud detection with labelled data </h4> \n",
    "\n",
    "In this exercise, we use credit card data. As there are very few fradulent occurences in the data, we try SMOTE resampling. We then try to detect fradulent transactions using statistical threshold. We compare Logistic regression with the original data and with resampled data. \n",
    "\n",
    "Then, using a new set of credit card data, we compare the performance of random forest and logistic regression, changing model options in both methods. "
   ]
  },
  {
   "cell_type": "code",
   "execution_count": 2,
   "id": "a363de7e",
   "metadata": {},
   "outputs": [
    {
     "name": "stdout",
     "output_type": "stream",
     "text": [
      "Collecting imblearn\n",
      "  Downloading imblearn-0.0-py2.py3-none-any.whl (1.9 kB)\n",
      "Collecting imbalanced-learn (from imblearn)\n",
      "  Downloading imbalanced_learn-0.12.0-py3-none-any.whl.metadata (8.2 kB)\n",
      "Requirement already satisfied: numpy>=1.17.3 in c:\\users\\toepfee1\\appdata\\local\\packages\\pythonsoftwarefoundation.python.3.11_qbz5n2kfra8p0\\localcache\\local-packages\\python311\\site-packages (from imbalanced-learn->imblearn) (1.26.3)\n",
      "Requirement already satisfied: scipy>=1.5.0 in c:\\users\\toepfee1\\appdata\\local\\packages\\pythonsoftwarefoundation.python.3.11_qbz5n2kfra8p0\\localcache\\local-packages\\python311\\site-packages (from imbalanced-learn->imblearn) (1.11.4)\n",
      "Requirement already satisfied: scikit-learn>=1.0.2 in c:\\users\\toepfee1\\appdata\\local\\packages\\pythonsoftwarefoundation.python.3.11_qbz5n2kfra8p0\\localcache\\local-packages\\python311\\site-packages (from imbalanced-learn->imblearn) (1.4.0)\n",
      "Requirement already satisfied: joblib>=1.1.1 in c:\\users\\toepfee1\\appdata\\local\\packages\\pythonsoftwarefoundation.python.3.11_qbz5n2kfra8p0\\localcache\\local-packages\\python311\\site-packages (from imbalanced-learn->imblearn) (1.3.2)\n",
      "Requirement already satisfied: threadpoolctl>=2.0.0 in c:\\users\\toepfee1\\appdata\\local\\packages\\pythonsoftwarefoundation.python.3.11_qbz5n2kfra8p0\\localcache\\local-packages\\python311\\site-packages (from imbalanced-learn->imblearn) (3.2.0)\n",
      "Downloading imbalanced_learn-0.12.0-py3-none-any.whl (257 kB)\n",
      "   ---------------------------------------- 0.0/257.7 kB ? eta -:--:--\n",
      "   ---- ---------------------------------- 30.7/257.7 kB 660.6 kB/s eta 0:00:01\n",
      "   ---------------------------------------  256.0/257.7 kB 4.0 MB/s eta 0:00:01\n",
      "   ---------------------------------------- 257.7/257.7 kB 2.6 MB/s eta 0:00:00\n",
      "Installing collected packages: imbalanced-learn, imblearn\n",
      "Successfully installed imbalanced-learn-0.12.0 imblearn-0.0\n",
      "Note: you may need to restart the kernel to use updated packages.\n"
     ]
    }
   ],
   "source": [
    "pip install imblearn"
   ]
  },
  {
   "cell_type": "code",
   "execution_count": 2,
   "id": "bbb5ba74-5e58-4e73-90a4-45e96c93a7be",
   "metadata": {},
   "outputs": [],
   "source": [
    "import pandas as pd\n",
    "import matplotlib.pyplot as plt\n",
    "from matplotlib.patches import Rectangle\n",
    "import numpy as np\n",
    "from pprint import pprint as pp\n",
    "import csv\n",
    "from pathlib import Path\n",
    "import seaborn as sns\n",
    "from itertools import product\n",
    "import string\n",
    "\n",
    "from imblearn.over_sampling import SMOTE\n",
    "from imblearn.over_sampling import BorderlineSMOTE\n",
    "from imblearn.pipeline import Pipeline \n",
    "\n",
    "from sklearn.linear_model import LinearRegression, LogisticRegression\n",
    "from sklearn.model_selection import train_test_split, GridSearchCV\n",
    "from sklearn.tree import DecisionTreeClassifier\n",
    "from sklearn.metrics import r2_score, classification_report, confusion_matrix, accuracy_score, roc_auc_score, roc_curve, precision_recall_curve, average_precision_score\n",
    "from sklearn.metrics import homogeneity_score, silhouette_score\n",
    "from sklearn.ensemble import RandomForestClassifier, VotingClassifier\n",
    "from sklearn.preprocessing import MinMaxScaler\n"
   ]
  },
  {
   "cell_type": "code",
   "execution_count": 3,
   "id": "ecb1dbdf-95a8-4ce4-a184-183929208c4d",
   "metadata": {},
   "outputs": [],
   "source": [
    "pd.set_option('display.max_columns', 700)\n",
    "pd.set_option('display.max_rows', 400)\n",
    "pd.set_option('display.min_rows', 10)\n",
    "pd.set_option('display.expand_frame_repr', True)"
   ]
  },
  {
   "cell_type": "code",
   "execution_count": 4,
   "id": "15c6cb5c-c4db-459e-8527-7de81693aff3",
   "metadata": {},
   "outputs": [],
   "source": [
    "data = Path.cwd() / 'data' \n",
    "\n",
    "ch1 = data / 'chapter_1'\n",
    "cc1_file = ch1 / 'creditcard_sampledata.csv'\n",
    "cc3_file = ch1 / 'creditcard_sampledata_3.csv'\n",
    "\n",
    "ch2 = data / 'chapter_2'\n",
    "cc2_file = ch2 / 'creditcard_sampledata_2.csv'\n",
    "\n"
   ]
  },
  {
   "cell_type": "code",
   "execution_count": 5,
   "id": "d6ad1e98-e167-4090-8105-bd0da88e57d0",
   "metadata": {},
   "outputs": [],
   "source": [
    "df = pd.read_csv(cc3_file)"
   ]
  },
  {
   "cell_type": "markdown",
   "id": "e4282a6a-c830-4e58-9959-0f2d0b56e34f",
   "metadata": {},
   "source": [
    "Lets first print df.info() and the first rows of the dataframe to see what data we have. "
   ]
  },
  {
   "cell_type": "code",
   "execution_count": 7,
   "id": "68f426df-b920-423d-887a-75d72dab3e15",
   "metadata": {},
   "outputs": [
    {
     "name": "stdout",
     "output_type": "stream",
     "text": [
      "<class 'pandas.core.frame.DataFrame'>\n",
      "RangeIndex: 5050 entries, 0 to 5049\n",
      "Data columns (total 31 columns):\n",
      " #   Column      Non-Null Count  Dtype  \n",
      "---  ------      --------------  -----  \n",
      " 0   Unnamed: 0  5050 non-null   int64  \n",
      " 1   V1          5050 non-null   float64\n",
      " 2   V2          5050 non-null   float64\n",
      " 3   V3          5050 non-null   float64\n",
      " 4   V4          5050 non-null   float64\n",
      " 5   V5          5050 non-null   float64\n",
      " 6   V6          5050 non-null   float64\n",
      " 7   V7          5050 non-null   float64\n",
      " 8   V8          5050 non-null   float64\n",
      " 9   V9          5050 non-null   float64\n",
      " 10  V10         5050 non-null   float64\n",
      " 11  V11         5050 non-null   float64\n",
      " 12  V12         5050 non-null   float64\n",
      " 13  V13         5050 non-null   float64\n",
      " 14  V14         5050 non-null   float64\n",
      " 15  V15         5050 non-null   float64\n",
      " 16  V16         5050 non-null   float64\n",
      " 17  V17         5050 non-null   float64\n",
      " 18  V18         5050 non-null   float64\n",
      " 19  V19         5050 non-null   float64\n",
      " 20  V20         5050 non-null   float64\n",
      " 21  V21         5050 non-null   float64\n",
      " 22  V22         5050 non-null   float64\n",
      " 23  V23         5050 non-null   float64\n",
      " 24  V24         5050 non-null   float64\n",
      " 25  V25         5050 non-null   float64\n",
      " 26  V26         5050 non-null   float64\n",
      " 27  V27         5050 non-null   float64\n",
      " 28  V28         5050 non-null   float64\n",
      " 29  Amount      5050 non-null   float64\n",
      " 30  Class       5050 non-null   int64  \n",
      "dtypes: float64(29), int64(2)\n",
      "memory usage: 1.2 MB\n"
     ]
    }
   ],
   "source": [
    "df.info()"
   ]
  },
  {
   "cell_type": "code",
   "execution_count": 8,
   "id": "bb0660cf-3994-4577-aac5-27f484bdcb4a",
   "metadata": {},
   "outputs": [
    {
     "data": {
      "text/html": [
       "<div>\n",
       "<style scoped>\n",
       "    .dataframe tbody tr th:only-of-type {\n",
       "        vertical-align: middle;\n",
       "    }\n",
       "\n",
       "    .dataframe tbody tr th {\n",
       "        vertical-align: top;\n",
       "    }\n",
       "\n",
       "    .dataframe thead th {\n",
       "        text-align: right;\n",
       "    }\n",
       "</style>\n",
       "<table border=\"1\" class=\"dataframe\">\n",
       "  <thead>\n",
       "    <tr style=\"text-align: right;\">\n",
       "      <th></th>\n",
       "      <th>Unnamed: 0</th>\n",
       "      <th>V1</th>\n",
       "      <th>V2</th>\n",
       "      <th>V3</th>\n",
       "      <th>V4</th>\n",
       "      <th>V5</th>\n",
       "      <th>V6</th>\n",
       "      <th>V7</th>\n",
       "      <th>V8</th>\n",
       "      <th>V9</th>\n",
       "      <th>V10</th>\n",
       "      <th>V11</th>\n",
       "      <th>V12</th>\n",
       "      <th>V13</th>\n",
       "      <th>V14</th>\n",
       "      <th>V15</th>\n",
       "      <th>V16</th>\n",
       "      <th>V17</th>\n",
       "      <th>V18</th>\n",
       "      <th>V19</th>\n",
       "      <th>V20</th>\n",
       "      <th>V21</th>\n",
       "      <th>V22</th>\n",
       "      <th>V23</th>\n",
       "      <th>V24</th>\n",
       "      <th>V25</th>\n",
       "      <th>V26</th>\n",
       "      <th>V27</th>\n",
       "      <th>V28</th>\n",
       "      <th>Amount</th>\n",
       "      <th>Class</th>\n",
       "    </tr>\n",
       "  </thead>\n",
       "  <tbody>\n",
       "    <tr>\n",
       "      <th>0</th>\n",
       "      <td>258647</td>\n",
       "      <td>1.725265</td>\n",
       "      <td>-1.337256</td>\n",
       "      <td>-1.012687</td>\n",
       "      <td>-0.361656</td>\n",
       "      <td>-1.431611</td>\n",
       "      <td>-1.098681</td>\n",
       "      <td>-0.842274</td>\n",
       "      <td>-0.026594</td>\n",
       "      <td>-0.032409</td>\n",
       "      <td>0.215113</td>\n",
       "      <td>1.618952</td>\n",
       "      <td>-0.654046</td>\n",
       "      <td>-1.442665</td>\n",
       "      <td>-1.546538</td>\n",
       "      <td>-0.230008</td>\n",
       "      <td>1.785539</td>\n",
       "      <td>1.419793</td>\n",
       "      <td>0.071666</td>\n",
       "      <td>0.233031</td>\n",
       "      <td>0.275911</td>\n",
       "      <td>0.414524</td>\n",
       "      <td>0.793434</td>\n",
       "      <td>0.028887</td>\n",
       "      <td>0.419421</td>\n",
       "      <td>-0.367529</td>\n",
       "      <td>-0.155634</td>\n",
       "      <td>-0.015768</td>\n",
       "      <td>0.010790</td>\n",
       "      <td>189.00</td>\n",
       "      <td>0</td>\n",
       "    </tr>\n",
       "    <tr>\n",
       "      <th>1</th>\n",
       "      <td>69263</td>\n",
       "      <td>0.683254</td>\n",
       "      <td>-1.681875</td>\n",
       "      <td>0.533349</td>\n",
       "      <td>-0.326064</td>\n",
       "      <td>-1.455603</td>\n",
       "      <td>0.101832</td>\n",
       "      <td>-0.520590</td>\n",
       "      <td>0.114036</td>\n",
       "      <td>-0.601760</td>\n",
       "      <td>0.444011</td>\n",
       "      <td>1.521570</td>\n",
       "      <td>0.499202</td>\n",
       "      <td>-0.127849</td>\n",
       "      <td>-0.237253</td>\n",
       "      <td>-0.752351</td>\n",
       "      <td>0.667190</td>\n",
       "      <td>0.724785</td>\n",
       "      <td>-1.736615</td>\n",
       "      <td>0.702088</td>\n",
       "      <td>0.638186</td>\n",
       "      <td>0.116898</td>\n",
       "      <td>-0.304605</td>\n",
       "      <td>-0.125547</td>\n",
       "      <td>0.244848</td>\n",
       "      <td>0.069163</td>\n",
       "      <td>-0.460712</td>\n",
       "      <td>-0.017068</td>\n",
       "      <td>0.063542</td>\n",
       "      <td>315.17</td>\n",
       "      <td>0</td>\n",
       "    </tr>\n",
       "    <tr>\n",
       "      <th>2</th>\n",
       "      <td>96552</td>\n",
       "      <td>1.067973</td>\n",
       "      <td>-0.656667</td>\n",
       "      <td>1.029738</td>\n",
       "      <td>0.253899</td>\n",
       "      <td>-1.172715</td>\n",
       "      <td>0.073232</td>\n",
       "      <td>-0.745771</td>\n",
       "      <td>0.249803</td>\n",
       "      <td>1.383057</td>\n",
       "      <td>-0.483771</td>\n",
       "      <td>-0.782780</td>\n",
       "      <td>0.005242</td>\n",
       "      <td>-1.273288</td>\n",
       "      <td>-0.269260</td>\n",
       "      <td>0.091287</td>\n",
       "      <td>-0.347973</td>\n",
       "      <td>0.495328</td>\n",
       "      <td>-0.925949</td>\n",
       "      <td>0.099138</td>\n",
       "      <td>-0.083859</td>\n",
       "      <td>-0.189315</td>\n",
       "      <td>-0.426743</td>\n",
       "      <td>0.079539</td>\n",
       "      <td>0.129692</td>\n",
       "      <td>0.002778</td>\n",
       "      <td>0.970498</td>\n",
       "      <td>-0.035056</td>\n",
       "      <td>0.017313</td>\n",
       "      <td>59.98</td>\n",
       "      <td>0</td>\n",
       "    </tr>\n",
       "    <tr>\n",
       "      <th>3</th>\n",
       "      <td>281898</td>\n",
       "      <td>0.119513</td>\n",
       "      <td>0.729275</td>\n",
       "      <td>-1.678879</td>\n",
       "      <td>-1.551408</td>\n",
       "      <td>3.128914</td>\n",
       "      <td>3.210632</td>\n",
       "      <td>0.356276</td>\n",
       "      <td>0.920374</td>\n",
       "      <td>-0.160589</td>\n",
       "      <td>-0.801748</td>\n",
       "      <td>0.137341</td>\n",
       "      <td>-0.156740</td>\n",
       "      <td>-0.429388</td>\n",
       "      <td>-0.752392</td>\n",
       "      <td>0.155272</td>\n",
       "      <td>0.215068</td>\n",
       "      <td>0.352222</td>\n",
       "      <td>-0.376168</td>\n",
       "      <td>-0.398920</td>\n",
       "      <td>0.043715</td>\n",
       "      <td>-0.335825</td>\n",
       "      <td>-0.906171</td>\n",
       "      <td>0.108350</td>\n",
       "      <td>0.593062</td>\n",
       "      <td>-0.424303</td>\n",
       "      <td>0.164201</td>\n",
       "      <td>0.245881</td>\n",
       "      <td>0.071029</td>\n",
       "      <td>0.89</td>\n",
       "      <td>0</td>\n",
       "    </tr>\n",
       "    <tr>\n",
       "      <th>4</th>\n",
       "      <td>86917</td>\n",
       "      <td>1.271253</td>\n",
       "      <td>0.275694</td>\n",
       "      <td>0.159568</td>\n",
       "      <td>1.003096</td>\n",
       "      <td>-0.128535</td>\n",
       "      <td>-0.608730</td>\n",
       "      <td>0.088777</td>\n",
       "      <td>-0.145336</td>\n",
       "      <td>0.156047</td>\n",
       "      <td>0.022707</td>\n",
       "      <td>-0.963306</td>\n",
       "      <td>-0.228074</td>\n",
       "      <td>-0.324933</td>\n",
       "      <td>0.390609</td>\n",
       "      <td>1.065923</td>\n",
       "      <td>0.285930</td>\n",
       "      <td>-0.627072</td>\n",
       "      <td>0.170175</td>\n",
       "      <td>-0.215912</td>\n",
       "      <td>-0.147394</td>\n",
       "      <td>0.031958</td>\n",
       "      <td>0.123503</td>\n",
       "      <td>-0.174528</td>\n",
       "      <td>-0.147535</td>\n",
       "      <td>0.735909</td>\n",
       "      <td>-0.262270</td>\n",
       "      <td>0.015577</td>\n",
       "      <td>0.015955</td>\n",
       "      <td>6.53</td>\n",
       "      <td>0</td>\n",
       "    </tr>\n",
       "  </tbody>\n",
       "</table>\n",
       "</div>"
      ],
      "text/plain": [
       "   Unnamed: 0        V1        V2        V3        V4        V5        V6  \\\n",
       "0      258647  1.725265 -1.337256 -1.012687 -0.361656 -1.431611 -1.098681   \n",
       "1       69263  0.683254 -1.681875  0.533349 -0.326064 -1.455603  0.101832   \n",
       "2       96552  1.067973 -0.656667  1.029738  0.253899 -1.172715  0.073232   \n",
       "3      281898  0.119513  0.729275 -1.678879 -1.551408  3.128914  3.210632   \n",
       "4       86917  1.271253  0.275694  0.159568  1.003096 -0.128535 -0.608730   \n",
       "\n",
       "         V7        V8        V9       V10       V11       V12       V13  \\\n",
       "0 -0.842274 -0.026594 -0.032409  0.215113  1.618952 -0.654046 -1.442665   \n",
       "1 -0.520590  0.114036 -0.601760  0.444011  1.521570  0.499202 -0.127849   \n",
       "2 -0.745771  0.249803  1.383057 -0.483771 -0.782780  0.005242 -1.273288   \n",
       "3  0.356276  0.920374 -0.160589 -0.801748  0.137341 -0.156740 -0.429388   \n",
       "4  0.088777 -0.145336  0.156047  0.022707 -0.963306 -0.228074 -0.324933   \n",
       "\n",
       "        V14       V15       V16       V17       V18       V19       V20  \\\n",
       "0 -1.546538 -0.230008  1.785539  1.419793  0.071666  0.233031  0.275911   \n",
       "1 -0.237253 -0.752351  0.667190  0.724785 -1.736615  0.702088  0.638186   \n",
       "2 -0.269260  0.091287 -0.347973  0.495328 -0.925949  0.099138 -0.083859   \n",
       "3 -0.752392  0.155272  0.215068  0.352222 -0.376168 -0.398920  0.043715   \n",
       "4  0.390609  1.065923  0.285930 -0.627072  0.170175 -0.215912 -0.147394   \n",
       "\n",
       "        V21       V22       V23       V24       V25       V26       V27  \\\n",
       "0  0.414524  0.793434  0.028887  0.419421 -0.367529 -0.155634 -0.015768   \n",
       "1  0.116898 -0.304605 -0.125547  0.244848  0.069163 -0.460712 -0.017068   \n",
       "2 -0.189315 -0.426743  0.079539  0.129692  0.002778  0.970498 -0.035056   \n",
       "3 -0.335825 -0.906171  0.108350  0.593062 -0.424303  0.164201  0.245881   \n",
       "4  0.031958  0.123503 -0.174528 -0.147535  0.735909 -0.262270  0.015577   \n",
       "\n",
       "        V28  Amount  Class  \n",
       "0  0.010790  189.00      0  \n",
       "1  0.063542  315.17      0  \n",
       "2  0.017313   59.98      0  \n",
       "3  0.071029    0.89      0  \n",
       "4  0.015955    6.53      0  "
      ]
     },
     "execution_count": 8,
     "metadata": {},
     "output_type": "execute_result"
    }
   ],
   "source": [
    "# first rows of the dataframe here\n",
    "\n",
    "df.head()"
   ]
  },
  {
   "cell_type": "markdown",
   "id": "2d55c686-4c5b-4676-b45a-662777f1184a",
   "metadata": {},
   "source": [
    "The last column Class defines whether the transaction is fraud (1) or no fraud (0). Count the occurrences of fraud and no fraud and print them. Then, compute and print the ratio of fraud cases. "
   ]
  },
  {
   "cell_type": "code",
   "execution_count": null,
   "id": "adc66c91-79fd-425a-bd32-8d57fe9e68b4",
   "metadata": {},
   "outputs": [],
   "source": [
    "# Count the occurrences of fraud and no fraud and print them\n",
    "occ = \n"
   ]
  },
  {
   "cell_type": "code",
   "execution_count": null,
   "id": "da554595-bae6-4619-bc5a-a8df01c9ad05",
   "metadata": {},
   "outputs": [],
   "source": [
    "# Print the ratio of fraud cases\n",
    "ratio_cases = ..\n"
   ]
  },
  {
   "cell_type": "markdown",
   "id": "edff8c20-12eb-48dd-9d59-a9b6f5b2f9db",
   "metadata": {},
   "source": [
    "Q: What can you say about the ratio of fraudulent cases? What could you do to improve the efficiency of fraud detection?"
   ]
  },
  {
   "cell_type": "markdown",
   "id": "87a7cf37-a414-4f96-948e-263d5c5da43a",
   "metadata": {},
   "source": [
    "We start by visualizing the data"
   ]
  },
  {
   "cell_type": "code",
   "execution_count": 6,
   "id": "134bfa99-9589-4750-89a8-2e6ee763fe5b",
   "metadata": {},
   "outputs": [],
   "source": [
    "def prep_data(df: pd.DataFrame) -> tuple[np.ndarray, np.ndarray]:\n",
    "    \"\"\"\n",
    "    Prepares the data for modeling by extracting features (V1 - V28) and labels (Class).\n",
    "    \n",
    "    Parameters:\n",
    "        df (pd.DataFrame): Input DataFrame containing the dataset.\n",
    "    \n",
    "    Returns:\n",
    "        tuple[np.ndarray, np.ndarray]: Feature matrix X and label array y.\n",
    "    \"\"\"\n",
    "    # Select columns V1 to V28 as features (assumes these are in columns 2 to 29)\n",
    "    X = df.loc[:, \"V1\":\"V28\"].values\n",
    "    # Select the 'Class' column as labels\n",
    "    y = df[\"Class\"].values\n",
    "    return X, y"
   ]
  },
  {
   "cell_type": "code",
   "execution_count": 7,
   "id": "1a246769-2b82-4674-b931-6e6679042cab",
   "metadata": {},
   "outputs": [],
   "source": [
    "def plot_data(X: np.ndarray, y: np.ndarray):\n",
    "    \"\"\"\n",
    "    Creates a scatter plot of the first two features in the dataset, colored by class.\n",
    "    \n",
    "    Parameters:\n",
    "        X (np.ndarray): Feature matrix.\n",
    "        y (np.ndarray): Label array.\n",
    "    \n",
    "    Returns:\n",
    "        None: Displays the plot.\n",
    "    \"\"\"\n",
    "    # Set a professional Seaborn style for better aesthetics\n",
    "    sns.set(style=\"whitegrid\")\n",
    "    \n",
    "    # Create a DataFrame for easier handling with Seaborn\n",
    "    plot_df = pd.DataFrame({\n",
    "        \"Feature 1\": X[:, 0],  # First feature\n",
    "        \"Feature 2\": X[:, 1],  # Second feature\n",
    "        \"Class\": y             # Class labels\n",
    "    })\n",
    "    \n",
    "    # Create a scatter plot using Seaborn\n",
    "    plt.figure(figsize=(10, 6))\n",
    "    sns.scatterplot(\n",
    "        data=plot_df,\n",
    "        x=\"Feature 1\",\n",
    "        y=\"Feature 2\",\n",
    "        hue=\"Class\",\n",
    "        palette={0: \"blue\", 1: \"red\"},\n",
    "        alpha=0.6,\n",
    "        edgecolor=\"k\",\n",
    "        s=50\n",
    "    )\n",
    "    \n",
    "    # Enhance the plot with titles and labels\n",
    "    plt.title(\"Scatter Plot of Features by Class\", fontsize=16)\n",
    "    plt.xlabel(\"Feature 1\", fontsize=12)\n",
    "    plt.ylabel(\"Feature 2\", fontsize=12)\n",
    "    plt.legend(title=\"Class\", loc=\"upper right\", fontsize=10)\n",
    "    \n",
    "    # Show the plot\n",
    "    plt.show()"
   ]
  },
  {
   "cell_type": "code",
   "execution_count": 8,
   "id": "3bf4e801-85f8-44a8-8357-29ab78117dd0",
   "metadata": {},
   "outputs": [],
   "source": [
    "# Create X and y from the prep_data function \n",
    "X, y = prep_data(df)"
   ]
  },
  {
   "cell_type": "code",
   "execution_count": 9,
   "id": "a0c50df3-1826-4918-a745-ac83422d6895",
   "metadata": {},
   "outputs": [
    {
     "data": {
      "image/png": "[encoded data removed]",
      "text/plain": [
       "<Figure size 1000x600 with 1 Axes>"
      ]
     },
     "metadata": {},
     "output_type": "display_data"
    }
   ],
   "source": [
    "# Plot our data by running our plot data function on X and y\n",
    "plot_data(X, y)"
   ]
  },
  {
   "cell_type": "markdown",
   "id": "10d8409e-0cf5-455c-8dcb-94e7f75fc2fa",
   "metadata": {},
   "source": [
    "How would you describe the scatter plot?"
   ]
  },
  {
   "cell_type": "markdown",
   "id": "9e796192-6f9a-4d66-a29a-078128842e17",
   "metadata": {},
   "source": [
    "SMOTE resampling\n",
    "\n",
    "We are going to re-balance our data using the Synthetic Minority Over-sampling Technique (SMOTE). SMOTE does not create exact copies of observations, but creates new, synthetic, samples that are quite similar to the existing observations in the minority class. \n",
    "\n",
    "- Use the 'prep_data' function on df to create features X and labels y. Print the shape of X and y. \n",
    "- Define the resampling method as 'SMOTE' of the regular kind, under the variable method.\n",
    "- Use .fit_sample() on the original X and y to obtain newly resampled data.\n",
    "- Plot the resampled data using the plot_data() function."
   ]
  },
  {
   "cell_type": "code",
   "execution_count": null,
   "id": "7a86f520-1b03-46db-8694-deb12840293d",
   "metadata": {},
   "outputs": [],
   "source": [
    "# Run the prep_data function\n"
   ]
  },
  {
   "cell_type": "code",
   "execution_count": null,
   "id": "5e275d80-be0f-4e1f-b0e2-ae3fa408008f",
   "metadata": {},
   "outputs": [],
   "source": [
    "# shapes of X and y\n"
   ]
  },
  {
   "cell_type": "code",
   "execution_count": null,
   "id": "5365bc3a-0e86-4f85-9a02-89be324f1e9e",
   "metadata": {},
   "outputs": [],
   "source": [
    "\n",
    "# Define the resampling method\n",
    "method = SMOTE()"
   ]
  },
  {
   "cell_type": "code",
   "execution_count": null,
   "id": "be67ad0a-2209-4bc3-8fc9-5befcbbb1776",
   "metadata": {},
   "outputs": [],
   "source": [
    "# Create the resampled feature set\n",
    "X_resampled, y_resampled = .."
   ]
  },
  {
   "cell_type": "code",
   "execution_count": null,
   "id": "7713aa0a-ff74-47a7-8b0d-cf96119fe35f",
   "metadata": {},
   "outputs": [],
   "source": [
    "# Plot the resampled data\n",
    "\n"
   ]
  },
  {
   "cell_type": "markdown",
   "id": "e186e446-c6f8-4fee-a571-102815101dcc",
   "metadata": {},
   "source": [
    "Q: what can you say about the minority class now? \n",
    "\n",
    "Print the value counts of our original labels, y. Be mindful that y is currently a Numpy array, so in order to use value counts, we'll assign y back as a pandas Series object.\n",
    "Repeat the step and print the value counts on y_resampled."
   ]
  },
  {
   "cell_type": "code",
   "execution_count": null,
   "id": "5a6129b1-f5bc-4001-9cd2-c492148c9823",
   "metadata": {},
   "outputs": [],
   "source": [
    "# value counts here\n"
   ]
  },
  {
   "cell_type": "markdown",
   "id": "babb30fe-fc15-455b-8800-ac0aab439609",
   "metadata": {},
   "source": [
    "Fraud detection with ML\n",
    "\n",
    "Split X and y into training and test data.\n",
    "Fit your model LinearRegression to your training data.\n",
    "Obtain the model predicted labels by running model.predict on X_test.\n",
    "Obtain a classification comparing y_test with predicted, and use the given confusion matrix to check your results."
   ]
  },
  {
   "cell_type": "code",
   "execution_count": null,
   "id": "47337269-a7d8-45bd-a4b4-72acc87e0005",
   "metadata": {},
   "outputs": [],
   "source": [
    "# Step 1: split the features and labels into train and test data\n",
    "X_train, X_test, y_train, y_test = train_test_split(X, y, test_size=0.2)"
   ]
  },
  {
   "cell_type": "markdown",
   "id": "060b70cd-c10f-46f3-8427-18e8832a7269",
   "metadata": {},
   "source": [
    "Statistical thresholds are often determined by looking at the mean values of observations. Let's start this exercise by checking whether feature means differ between fraud and non-fraud cases. Then, you'll use that information to create common sense thresholds. Finally, you'll check how well this performs in fraud detection.\n",
    "\n",
    "Use groupby() to group df on Class and obtain the mean of the features.\n",
    "Create the condition V1 smaller than -3, and V3 smaller than -5 as a condition to flag fraud cases. (this piece of code is in the end of the exercise.)\n",
    "As a measure of performance, use the crosstab function from pandas to compare our flagged fraud cases to actual fraud cases."
   ]
  },
  {
   "cell_type": "code",
   "execution_count": null,
   "id": "b6683658-a928-408d-9be3-1ae09909030b",
   "metadata": {},
   "outputs": [],
   "source": [
    "df.drop(['Unnamed: 0'], axis=1, inplace=True)"
   ]
  },
  {
   "cell_type": "code",
   "execution_count": null,
   "id": "2d015999-bc1d-4c8b-9fee-1e4a673dd88c",
   "metadata": {},
   "outputs": [],
   "source": [
    "# Use groupby() to group df on Class and obtain the mean of the features\n"
   ]
  },
  {
   "cell_type": "code",
   "execution_count": null,
   "id": "ac86071e-ab93-4e83-9688-8d7304861634",
   "metadata": {},
   "outputs": [],
   "source": [
    "# Create the condition V1 smaller than -3, and V3 smaller than -5 as a condition to flag fraud cases.\n"
   ]
  },
  {
   "cell_type": "code",
   "execution_count": null,
   "id": "717b2835-6be3-4a29-aaea-bfb099134316",
   "metadata": {},
   "outputs": [],
   "source": [
    " #use the crosstab function from pandas to compare our flagged fraud cases to actual fraud cases.\n",
    "    "
   ]
  },
  {
   "cell_type": "markdown",
   "id": "f8a2c8a3-d3f4-4a69-9519-58b8609bdd76",
   "metadata": {},
   "source": [
    "Q: How would you assess this rule?  (correct answer 4984, 16, 28, 22)"
   ]
  },
  {
   "cell_type": "markdown",
   "id": "92279179-33ff-4bdf-9029-cf866b91b646",
   "metadata": {},
   "source": [
    "LogisticRegression\n",
    "\n",
    "Split X and y into training and test data, keeping 30% of the data for testing.\n",
    "Fit your LogisticRegression model to your training data. (solver='liblinear')\n",
    "Obtain the model predicted labels by running model.predict on X_test.\n",
    "Obtain a classification comparing y_test with predicted, and use the given confusion matrix to check your results."
   ]
  },
  {
   "cell_type": "code",
   "execution_count": null,
   "id": "226a333d-2bee-4ef6-8b32-cc2aaefc2f05",
   "metadata": {},
   "outputs": [],
   "source": [
    "# Create the training and testing sets\n",
    "X_train, X_test, y_train, y_test = \n",
    "# Fit a logistic regression model to our data\n",
    "model = ..\n",
    "\n",
    "# Obtain model predictions\n",
    "\n",
    "\n",
    "# Print the classifcation report and confusion matrix\n",
    "# Generate and visualize the confusion matrix\n",
    "def plot_confusion_matrix(y_true, y_pred, class_names):\n",
    "    \"\"\"\n",
    "    Plots a confusion matrix with enhanced visualization.\n",
    "    \n",
    "    Parameters:\n",
    "        y_true (array-like): True labels.\n",
    "        y_pred (array-like): Predicted labels.\n",
    "        class_names (list): List of class names for labeling.\n",
    "    \"\"\"\n",
    "    conf_mat = confusion_matrix(y_true, y_pred)\n",
    "    plt.figure(figsize=(8, 6))\n",
    "    sns.heatmap(conf_mat, annot=True, fmt=\"d\", cmap=\"Blues\", xticklabels=class_names, yticklabels=class_names)\n",
    "    plt.title(\"Confusion Matrix\", fontsize=16)\n",
    "    plt.xlabel(\"Predicted Labels\", fontsize=12)\n",
    "    plt.ylabel(\"True Labels\", fontsize=12)\n",
    "    plt.xticks(fontsize=10)\n",
    "    plt.yticks(fontsize=10)\n",
    "    plt.show()\n",
    "\n",
    "# Define class names for the confusion matrix (e.g., \"Not Fraud\" and \"Fraud\")\n",
    "class_names = [\"Not Fraud\", \"Fraud\"]\n",
    "\n",
    "print('Classification report:\\n', classification_report(y_test, predicted))\n",
    "\n",
    "plot_confusion_matrix(y_test, predicted, class_names)"
   ]
  },
  {
   "cell_type": "markdown",
   "id": "252ba63a-ebdb-40b5-868c-a3c9dc16f449",
   "metadata": {},
   "source": [
    "Logistic regression with SMOTE\n",
    "\n",
    "We combine the Logistic Regression model with a SMOTE resampling method using a pipeline that combines the resampling method with the model in one go. "
   ]
  },
  {
   "cell_type": "code",
   "execution_count": null,
   "id": "276d2a7a-1259-49f4-a592-fbf958e9562b",
   "metadata": {},
   "outputs": [],
   "source": [
    "# Define which resampling method and which ML model to use in the pipeline\n",
    "# resampling = SMOTE(kind='borderline2')  \n",
    "\n",
    "resampling = BorderlineSMOTE()\n",
    "model = LogisticRegression(solver='liblinear')"
   ]
  },
  {
   "cell_type": "code",
   "execution_count": null,
   "id": "f86ee3a8-5028-4b23-bcb1-93af30e6ce79",
   "metadata": {},
   "outputs": [],
   "source": [
    "# pipeline here\n",
    "pipeline = Pipeline(...)"
   ]
  },
  {
   "cell_type": "markdown",
   "id": "8d3a3483-1def-45a9-92bb-88330c52e67a",
   "metadata": {},
   "source": [
    "Split X and y into training and test data, keeping 30% of the data for testing.\n",
    "Fit the pipeline to your training data.\n",
    "Obtain the results from the classification report and confusion matrix. "
   ]
  },
  {
   "cell_type": "code",
   "execution_count": null,
   "id": "8caf0f5b-9e5e-461a-93a9-04eb5d0c347c",
   "metadata": {},
   "outputs": [],
   "source": [
    "# Split your data X and y, into a training and a test set and fit the pipeline onto the training data\n",
    "X_train, X_test, y_train, y_test = \n",
    "\n",
    "\n",
    "predicted = ..\n",
    "\n",
    "# Obtain the results from the classification report and confusion matrix \n",
    "print('Classifcation report:\\n', classification_report(y_test, predicted))\n",
    "\n",
    "plot_confusion_matrix(y_test, predicted, class_names)"
   ]
  },
  {
   "cell_type": "code",
   "execution_count": null,
   "id": "5531c72f-28aa-4e01-a78b-cf6cc79c79ed",
   "metadata": {},
   "outputs": [],
   "source": [
    "\n",
    "# Obtain precision and recall \n"
   ]
  },
  {
   "cell_type": "markdown",
   "id": "2f5f171a-f93c-4d1e-bffb-33c62b17a4d8",
   "metadata": {},
   "source": [
    "Q: What were precision and recall? "
   ]
  },
  {
   "cell_type": "markdown",
   "id": "6f076e21-de4e-4078-92de-2e3dad32b4d0",
   "metadata": {},
   "source": [
    "Random forest\n",
    "\n",
    "We next use another set of credit card transaction data.  Also this data is heavily imbalanced. \n",
    "\n",
    "With this data, when betting that nothing is fraudulent, we would be right 95.89% of the time. To be effective, our fraud detections should beat this percentage. "
   ]
  },
  {
   "cell_type": "code",
   "execution_count": null,
   "id": "6bb377e1-9cf8-4a05-8d2e-0e28dc7bb981",
   "metadata": {},
   "outputs": [],
   "source": [
    "df2 = pd.read_csv(cc2_file)\n",
    "df2.head()"
   ]
  },
  {
   "cell_type": "markdown",
   "id": "be7de69b-b160-4120-a520-1341727905ed",
   "metadata": {},
   "source": [
    "We do a simple random forest classification as a benchmark. \n",
    "\n",
    "Split your features X and labels y into a training and test set. Set aside a test set of 30%.\n",
    "Assign the random forest classifier to model and keep random_state at 5. We need to set a random state here in order to be able to compare results across different models.\n"
   ]
  },
  {
   "cell_type": "code",
   "execution_count": null,
   "id": "1a0b969f-74e9-4edc-bbd7-c2cf75a17a04",
   "metadata": {},
   "outputs": [],
   "source": [
    "# Split your data into training and test set\n",
    "X_train, X_test, y_train, y_test = ..\n",
    "\n",
    "# Define the model as the random forest\n",
    "model = RandomForestClassifier(...\n",
    "\n",
    "# Fit the model to our training set\n",
    "\n",
    "\n",
    "# Obtain predictions from the test data X_test\n",
    "predicted = ..\n"
   ]
  },
  {
   "cell_type": "markdown",
   "id": "11d40657-0d96-4e17-a28c-f59eeb5df06a",
   "metadata": {},
   "source": [
    "Compute and print the accuracy score by comparing the actual labels y_test with our predicted labels predicted.\n",
    "Then, compute the classification report and the confusion matrix."
   ]
  },
  {
   "cell_type": "code",
   "execution_count": null,
   "id": "5d7e5768-f178-43e3-a687-0594f1df85a0",
   "metadata": {},
   "outputs": [],
   "source": [
    "# accuracy score etc here\n"
   ]
  },
  {
   "cell_type": "markdown",
   "id": "6dbc5c2e-d169-4240-964d-019b79e75bdf",
   "metadata": {},
   "source": [
    "We adjust the random forest model to deal with highly imbalanced fraud data and set the class_weights option to 'balanced_subsample'.\n",
    "random state=5, n_estimators=100. \n",
    "\n",
    "Define the model with balanced subsample. Fit your training model to your training set. Obtain the predicted values from the model. Compute the ROCAUC score, the classification report and the confusion matrix.  "
   ]
  },
  {
   "cell_type": "code",
   "execution_count": null,
   "id": "69feb15c-8828-4d5f-9cac-e1c82333a160",
   "metadata": {},
   "outputs": [],
   "source": [
    "# Define the model with balanced subsample\n",
    "model = RandomForestClassifier(... complete here)\n",
    "\n",
    "# Fit your training model to your training set\n",
    "model.fit(X_train, y_train)\n",
    "\n",
    "# Obtain the predicted values (and probabilities) from the model \n",
    "\n",
    "\n",
    "# Print the ROC score, classification report and confusion matrix\n"
   ]
  },
  {
   "cell_type": "markdown",
   "id": "b10b505f-e5ea-4a7a-95aa-9b4d8ed3d649",
   "metadata": {},
   "source": [
    "We will now define weights in the random forest classifier manually, to be able to off-set that imbalance slightly.\n",
    "\n",
    "In our case we have 300 fraud to 7000 non-fraud cases, so by setting the weight ratio to 1:12, we get to a 1/3 fraud to 2/3 non-fraud ratio, which is good enough for training the model on. (correct piece of code in the end of the exercise)\n",
    "\n",
    "Change the weight option to set the ratio to 1 to 12 for the non-fraud and fraud cases, and set the split criterion to 'entropy'.\n",
    "Set the maximum depth to 10.\n",
    "Set the minimal samples in leaf nodes to 10.\n",
    "Set the number of trees to use in the model to 20.\n",
    "\n",
    "Finally, print the ROC curve, classification report and confusion matrix."
   ]
  },
  {
   "cell_type": "code",
   "execution_count": null,
   "id": "1ac84bc1-278f-44e1-8096-2db6c1263389",
   "metadata": {},
   "outputs": [],
   "source": [
    "# Change the model options\n",
    "model = RandomForestClassifier(bootstrap=True,\n",
    "                               class_weight={0:1, 1:12},\n",
    "                               criterion='entropy',\n",
    "                               # Change depth of model\n",
    "                               max_depth=10,\n",
    "                               # Change the number of samples in leaf nodes\n",
    "                               min_samples_leaf=10, \n",
    "                               # Change the number of trees to use\n",
    "                               n_estimators=20,\n",
    "                               n_jobs=-1,\n",
    "                               random_state=5)\n",
    "\n",
    "\n",
    "#Fit your training model to your training set\n",
    "  \n",
    "# Obtain the predicted values and probabilities from the model \n",
    "\n",
    "# ROC curve, classification report, confusion matrix\n"
   ]
  },
  {
   "cell_type": "markdown",
   "id": "385c7ac9-e4c2-4ce6-962a-b0effdf77cc3",
   "metadata": {},
   "source": [
    "Q: What would you say about the results now?"
   ]
  },
  {
   "cell_type": "markdown",
   "id": "f072832a-65d0-46ad-99a9-c1c3984d8e1a",
   "metadata": {},
   "source": [
    "We close this exercise by trying the Logistic regressor. \n",
    "\n",
    "Define a LogisticRegression model with class weights that are 1:15 for the fraud cases.\n",
    "Fit the model to the training set, and obtain the model predictions.\n",
    "Print the classification report and confusion matrix."
   ]
  },
  {
   "cell_type": "code",
   "execution_count": null,
   "id": "49f8dda0-67eb-4aa4-a15e-181aad57ee4e",
   "metadata": {},
   "outputs": [],
   "source": [
    "# Define the Logistic Regression model with weights\n",
    "model = LogisticRegression(.. complete here)\n",
    "\n",
    "#Fit your training model to your training set\n",
    "  \n",
    "# Obtain the predicted values and probabilities from the model \n",
    "\n",
    "    \n",
    "# ROC curve, classification report, confusion matrix"
   ]
  },
  {
   "cell_type": "markdown",
   "id": "6a6a529a-c0ad-4cdf-ac29-e812322bba71",
   "metadata": {},
   "source": [
    "Q: how would you analyze the methods used?"
   ]
  },
  {
   "cell_type": "code",
   "execution_count": null,
   "id": "1503e5ff-3e2c-461b-9f4e-15e71fe76201",
   "metadata": {},
   "outputs": [],
   "source": []
  },
  {
   "cell_type": "code",
   "execution_count": null,
   "id": "49fe781d-8cf9-43f3-867a-0b78edded0b7",
   "metadata": {},
   "outputs": [],
   "source": [
    "# pieces of code needed in the exercise. "
   ]
  },
  {
   "cell_type": "markdown",
   "id": "e1546ab5-2c2b-486f-8dc9-f5804e89bb99",
   "metadata": {},
   "source": [
    "#df['flag_as_fraud'] = np.where(np.logical_and(df.V1 < -3, df.V3 < -5), 1, 0)"
   ]
  },
  {
   "cell_type": "markdown",
   "id": "612879d9-86ca-4564-96d7-d774622df4cf",
   "metadata": {},
   "source": []
  },
  {
   "cell_type": "code",
   "execution_count": null,
   "id": "795bced9",
   "metadata": {},
   "outputs": [],
   "source": [
    "# Change the model options\n",
    "#model = RandomForestClassifier(bootstrap=True,\n",
    "                               criterion='entropy',\n",
    "                               # Change depth of model\n",
    "                               max_depth=10,\n",
    "                               # Change the number of samples in leaf nodes\n",
    "                               min_samples_leaf=10, \n",
    "                               # Change the number of trees to use\n",
    "                               n_estimators=20,\n",
    "                               n_jobs=-1,\n",
    "                               random_state=5)"
   ]
  }
 ],
 "metadata": {
  "kernelspec": {
   "display_name": "Python 3",
   "language": "python",
   "name": "python3"
  },
  "language_info": {
   "codemirror_mode": {
    "name": "ipython",
    "version": 3
   },
   "file_extension": ".py",
   "mimetype": "text/x-python",
   "name": "python",
   "nbconvert_exporter": "python",
   "pygments_lexer": "ipython3",
   "version": "3.12.9"
  }
 },
 "nbformat": 4,
 "nbformat_minor": 5
}
